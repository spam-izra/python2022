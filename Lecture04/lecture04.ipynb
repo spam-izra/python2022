{
 "cells": [
  {
   "cell_type": "markdown",
   "metadata": {
    "tags": []
   },
   "source": [
    "# Лекция 4. Графы.\n",
    "\n",
    "> __Граф__ -  совокупностью объектов и линий их соединящих. Объекты обычно называются вершинами графа, а линии - ребрами.\n",
    "\n",
    "<img src=\"graph.png\">"
   ]
  },
  {
   "cell_type": "markdown",
   "metadata": {},
   "source": [
    "Если добавить ребер графа добавить направление, то есть становится существенным как соединены вершины, то такой граф называется _ориентированым_, в противном случае - _неориентированым_.\n",
    "\n",
    "<img src=\"digraph.png\">"
   ]
  },
  {
   "cell_type": "markdown",
   "metadata": {},
   "source": [
    "# Зачем?\n",
    "\n",
    "С помощью графов удобно представлять различные задачи: парсинг выражений, 3D графика, построение маршрутов, теория игр, факторизация полной вероятности, нейронные сети и много другое.\n",
    "\n",
    "<img src=\"comp.png\">"
   ]
  },
  {
   "cell_type": "markdown",
   "metadata": {},
   "source": [
    "<img src=\"https://karta-metro.ru/images/moscowMetroMap.gif\">"
   ]
  },
  {
   "cell_type": "markdown",
   "metadata": {
    "jp-MarkdownHeadingCollapsed": true,
    "tags": []
   },
   "source": [
    "# Представление\n",
    "\n",
    "Графы полностью описываются множеством своих вершин и ребер. Таким образом, подходит любая структура, которая позволяет хранить эту информацию. Например\n",
    "- матрица смежности\n",
    "- дерево объектов"
   ]
  },
  {
   "cell_type": "markdown",
   "metadata": {},
   "source": [
    "# Матрица смежности\n",
    "\n",
    "Это один из простых способо задания графа. У нас имеется матрица $n$ на $n$, где номера столбцов и строк связаны с номером вершины. На пересечение столбцов и строк стоит значение связанное с ребром  между этими вершинами (в простейшем случае 1 - есть связь, 0 - нет связи).\n",
    "\n",
    "<img src=\"simple.png\">\n",
    "\n"
   ]
  },
  {
   "cell_type": "markdown",
   "metadata": {},
   "source": [
    "```\n",
    "  | 1| 2| 3| 4|\n",
    "-- -- -- -- --\n",
    "1 |  | 1|  |  |\n",
    "-- -- -- -- --\n",
    "2 | 1|  | 1| 1|\n",
    "-- -- -- -- --\n",
    "3 |  | 1|  |  |\n",
    "-- -- -- -- --\n",
    "4 |  | 1|  |  |\n",
    "-- -- -- -- --\n",
    "```"
   ]
  },
  {
   "cell_type": "markdown",
   "metadata": {},
   "source": [
    "Даннный способ плохо подходит, если между вершинами может быть несколько ребер. В этом случае столбцы матрицы начинают обозначать номера вершин, а строки - номера ребер. "
   ]
  },
  {
   "cell_type": "markdown",
   "metadata": {},
   "source": [
    "# Дерево\n",
    "\n",
    "Программно, очень удобно представлять граф в виде дерева связанных объектов"
   ]
  },
  {
   "cell_type": "code",
   "execution_count": 63,
   "metadata": {},
   "outputs": [
    {
     "name": "stdout",
     "output_type": "stream",
     "text": [
      " Node[root]\n",
      "\t Node[A]\n",
      "\t\t Node[C]\n",
      "\t\t Node[D]\n",
      "\t\t Node[E]\n",
      "\t Node[B]\n"
     ]
    }
   ],
   "source": [
    "class Node:\n",
    "    def __init__(self, name, parent=None):\n",
    "        self.name = name\n",
    "        self.parent = parent\n",
    "        self.children = []\n",
    "        if self.parent is not None:\n",
    "            parent.children.append(self)\n",
    "    \n",
    "    def print(self, deep=0):\n",
    "        print(\"\\t\"*deep, f'Node[{self.name}]')\n",
    "        for child in self.children:\n",
    "            child.print(deep + 1)\n",
    "        \n",
    "root = Node('root')\n",
    "\n",
    "A = Node('A', root)\n",
    "B = Node('B', root)\n",
    "\n",
    "C = Node('C', A)\n",
    "D = Node('D', A)\n",
    "E = Node('E', A)\n",
    "\n",
    "root.print()"
   ]
  },
  {
   "cell_type": "markdown",
   "metadata": {},
   "source": [
    "# Пример\n",
    "\n",
    "Сделаем парсер простых выражений, который будет строить дерево вычислений, вида: `1 + (4 / 2)`"
   ]
  },
  {
   "cell_type": "code",
   "execution_count": 300,
   "metadata": {},
   "outputs": [
    {
     "data": {
      "text/plain": [
       "25"
      ]
     },
     "execution_count": 300,
     "metadata": {},
     "output_type": "execute_result"
    }
   ],
   "source": [
    "# Это нам нужно для генерации уникальных идентификаторов\n",
    "from uuid import uuid4\n",
    "\n",
    "\n",
    "class Node:\n",
    "    \"\"\" Родительский класс для вершины вычислительного графа \"\"\"\n",
    "    def __init__(self, *, parent=None):\n",
    "        self.children = []\n",
    "        self.parent = None\n",
    "        self.id = \"ID_\" + uuid4().hex\n",
    "        \n",
    "        if parent is not None:\n",
    "            parent.add_child(self)\n",
    "            \n",
    "    def name(self):\n",
    "        \"\"\" Имя узла \"\"\"\n",
    "        raise NotImplemented\n",
    "            \n",
    "    def add_child(self, node):\n",
    "        \"\"\" Позволяет добавить к узлу потомка \"\"\"\n",
    "        self.children.append(node)\n",
    "        node.parent = self\n",
    "        \n",
    "    def calc(self):\n",
    "        \"\"\" Вычислить значение в узле \"\"\"\n",
    "        raise NotImplemented\n",
    "            \n",
    "    def dot(self):\n",
    "        \"\"\" Формирование dot-файла \"\"\"\n",
    "        result = f'\\t{self.id} [label=\"{self.name()}\"]\\n'\n",
    "        \n",
    "        for child in self.children:\n",
    "            result += child.dot()\n",
    "            result += f'\\t{self.id} -- {child.id}\\n'\n",
    "        return result\n",
    "    \n",
    "    \n",
    "class ConstNode(Node):\n",
    "    \"\"\" Узел описывающий константы в выражениях \"\"\"\n",
    "    def __init__(self, value, *, parent=None):\n",
    "        super().__init__()\n",
    "        self.value = value\n",
    "        \n",
    "    def __repr__(self):\n",
    "        return f'<ConstNode = {self.value}>'\n",
    "    \n",
    "    def calc(self):\n",
    "        return self.value\n",
    "    \n",
    "    def name(self):\n",
    "        return str(self.value)\n",
    "    \n",
    "    \n",
    "class BinaryOpNode(Node):  \n",
    "    \"\"\" Родительский узел для бинарных операторов \"\"\"\n",
    "    def _op(self, a, b):\n",
    "        \"\"\" Сама операция, должна быть переопределена в потомках \"\"\"\n",
    "        raise NotImplemented\n",
    "        \n",
    "    def calc(self):\n",
    "        assert len(self.children) == 2 \n",
    "        return self._op(self.children[0].calc(), self.children[1].calc())\n",
    "    \n",
    "    def __repr__(self):\n",
    "        return f'<{self.__class__.__name__}>'\n",
    "    \n",
    "class MinusNode(BinaryOpNode):\n",
    "    def _op(self, a, b):\n",
    "        return a - b\n",
    "    \n",
    "    def name(self):\n",
    "        return \"-\"\n",
    "    \n",
    "class PlusNode(BinaryOpNode):\n",
    "    def _op(self, a, b):\n",
    "        return a + b\n",
    "    def name(self):\n",
    "        return \"+\"\n",
    "    \n",
    "class MultNode(BinaryOpNode):\n",
    "    def _op(self, a, b):\n",
    "        return a * b\n",
    "    def name(self):\n",
    "        return \"*\"\n",
    "\n",
    "class DivNode(BinaryOpNode):\n",
    "    def _op(self, a, b):\n",
    "        return a / b\n",
    "    def name(self):\n",
    "        return \"/\"\n",
    "    \n",
    "class PowerNode(BinaryOpNode):\n",
    "    def _op(self, a, b):\n",
    "        return a ** b\n",
    "    def name(self):\n",
    "        return \"^\"\n",
    "    \n",
    "    \n",
    "class UnaryOpNode(Node):\n",
    "    \"\"\" Родительский класс для унарных операторов \"\"\"\n",
    "    def _op(self, a):\n",
    "        raise NotImplemented\n",
    "        \n",
    "    def calc(self):\n",
    "        assert len(self.children) == 1\n",
    "        return self._op(self.children[0].calc())\n",
    "    def __repr__(self):\n",
    "        return f'<{self.__class__.__name__}>'\n",
    "    \n",
    "class UnaryMinusNode(UnaryOpNode):\n",
    "    def _op(self, a):\n",
    "        return -a\n",
    "    def name(self):\n",
    "        return \"neg\"\n",
    "    \n",
    "a = ConstNode(5)\n",
    "b = ConstNode(7)\n",
    "c = ConstNode(10)\n",
    "\n",
    "op = MultNode()\n",
    "op.add_child(a)\n",
    "op.add_child(b)\n",
    "\n",
    "op2 = MinusNode()\n",
    "op2.add_child(op)\n",
    "op2.add_child(c)\n",
    "\n",
    "op2.calc()"
   ]
  },
  {
   "cell_type": "code",
   "execution_count": 301,
   "metadata": {},
   "outputs": [
    {
     "data": {
      "image/png": "[encoded data removed]",
      "text/plain": [
       "<IPython.core.display.Image object>"
      ]
     },
     "execution_count": 301,
     "metadata": {},
     "output_type": "execute_result"
    }
   ],
   "source": [
    "def render(node):\n",
    "    \"\"\"\n",
    "        Отрисовка вычислительного графа в dot-файл\n",
    "        Для рендера должен стоять пакет Graphviz (https://graphviz.org/)\n",
    "        \n",
    "        Работает только в Jupyter (из-за модуля display)\n",
    "    \"\"\"\n",
    "    import os\n",
    "    with open(\"test.dot\", \"w\") as f:\n",
    "        print(\"graph Example {\", file=f)\n",
    "        print(node.dot(), file=f)\n",
    "        print(\"}\", file=f)\n",
    "        \n",
    "    # вызов утилиты для рендера в png\n",
    "    os.system(\"dot -Tpng -o test.png test.dot\")\n",
    "    from IPython.display import Image\n",
    "    return Image(filename='test.png') \n",
    "    \n",
    "render(op2)"
   ]
  },
  {
   "cell_type": "code",
   "execution_count": null,
   "metadata": {},
   "outputs": [],
   "source": []
  },
  {
   "cell_type": "markdown",
   "metadata": {
    "tags": []
   },
   "source": [
    "# Обратная польская запись\n",
    "\n",
    "Пока есть символы для чтения:\n",
    "1. читаем следующий символ\n",
    "   - если это число или постфиксная функция, то добавляем его к выводу\n",
    "   - если это префиксная функция, то помещаем в стек\n",
    "   - если это открывающая скобка, то помещаем в стек\n",
    "   - если закрывающая скобка, то до тех пор, пока на вершине стека не окажется открывающая скобка, выталкиваем символы с вершины стека в вывод\n",
    "   - если это бинарная операция, то\n",
    "       1. пока на вершине стека префиксная функция, или операция приоритетней (или того же уровня приоритета) как у прочитанной бинарной операции - выталкиваем верхний элемент стека в вывод\n",
    "       2. помещаем бинарную операцию в стек\n",
    "2. Если строка закончилась, то выталкиваем все символы из стека в вывод, иначе к пункту 1\n",
    "\n",
    "\n",
    "Надо отметить, что символ `-` является многозначным (он может быть унарным и бинарным оператором) и нужно учитывать предыдущий символ, чтобы понять убрать эту многозначность."
   ]
  },
  {
   "cell_type": "code",
   "execution_count": 302,
   "metadata": {},
   "outputs": [
    {
     "name": "stdout",
     "output_type": "stream",
     "text": [
      "\n",
      "s='2^3.3*4'\n",
      "symbols=['2', '^', '3.3', '*', '4']\n",
      "[2, 3.3, '^', 4, '*']\n",
      "\n",
      "s='+2^3.3^4'\n",
      "symbols=['+2', '^', '3.3', '^', '4']\n",
      "[2, 3.3, 4, '^', '^']\n",
      "\n",
      "s='-2^2^4'\n",
      "symbols=['-2', '^', '2', '^', '4']\n",
      "[-2, 2, 4, '^', '^']\n",
      "\n",
      "s='-(2)^2^4'\n",
      "symbols=['-', '(', '2', ')', '^', '2', '^', '4']\n",
      "[2, 2, 4, '^', '^', 'neg']\n",
      "\n",
      "s='2+1*3^1'\n",
      "symbols=['2', '+', '1', '*', '3', '^', '1']\n",
      "[2, 1, 3, 1, '^', '*', '+']\n",
      "\n",
      "s='(2+2)*2'\n",
      "symbols=['(', '2', '+', '2', ')', '*', '2']\n",
      "[2, 2, '+', 2, '*']\n",
      "\n",
      "s='(-2-2)/2'\n",
      "symbols=['(', '-2', '-', '2', ')', '/', '2']\n",
      "[-2, 2, '-', 2, '/']\n"
     ]
    }
   ],
   "source": [
    "import re\n",
    "\n",
    "\n",
    "def parse(s):\n",
    "    binary = set([\"+\", \"-\", \"*\", \"/\", \"^\"])\n",
    "    unary = set([\"+\", \"-\"])\n",
    "    # список приоритетов операторов\n",
    "    operators = {\n",
    "        \"+\":   0, \n",
    "        \"-\":   0, \n",
    "        \"*\":   1, \n",
    "        \"/\":   1,\n",
    "        \"neg\": 2, # унарный -\n",
    "        \"pos\": 2, # унарный +\n",
    "        \"^\":   3,\n",
    "    }\n",
    "    \n",
    "    \n",
    "    # убиваем пробельные символы\n",
    "    s = re.subn(r'\\s+', \"\", s)[0]\n",
    "    \n",
    "    # разбиваем на символы\n",
    "    symbols = [\n",
    "        groups[0] for groups in re.findall(r'(\\d+(\\.\\d*)?|[()+*/^-])', s)\n",
    "    ]\n",
    "    tmp = []\n",
    "    # фиксим литералы отрицательных чисел и положительных \n",
    "    # (если перед ними стоит знак + или -)\n",
    "    i = 0\n",
    "    while i < len(symbols):\n",
    "        # если натыкаемся на + или - и следующим символом идет число\n",
    "        if (i + 1 < len(symbols) \n",
    "            and symbols[i] in [\"+\", \"-\"] \n",
    "            and re.match(r'^\\d+(\\.\\d*)?$', symbols[i + 1])\n",
    "           ):\n",
    "            # если у нас начало строки или стоит скобка, то\n",
    "            # это литерал числа, а не унарный оператор\n",
    "            if i == 0 or symbols[i-1] == \"(\":\n",
    "                tmp.append(symbols[i] + symbols[i + 1])\n",
    "                i += 2\n",
    "                continue\n",
    "        \n",
    "        tmp.append(symbols[i])\n",
    "        i += 1\n",
    "    symbols = tmp      \n",
    "    \n",
    "    print()\n",
    "    print(f'{s=}')\n",
    "    print(f'{symbols=}')\n",
    "\n",
    "    stack = []\n",
    "    result = []\n",
    "    for i, symbol in enumerate(symbols):\n",
    "        # Если это целое число\n",
    "        if re.match(r'^[+-]?\\d+$', symbol):\n",
    "            result.append(int(symbol))\n",
    "        # Если это вещественное число\n",
    "        elif re.match(r'^[+-]?\\d+\\.\\d*$', symbol):\n",
    "            result.append(float(symbol))\n",
    "        # Если это префиксный минус (унарный)\n",
    "        elif symbol == \"-\" and (i == 0 or symbols[i-1] == \"(\"):\n",
    "            stack.append(\"neg\")\n",
    "        # Если это префиксный плюс (унарный)\n",
    "        elif symbol == \"+\" and (i == 0 or symbols[i-1] == \"(\"):\n",
    "            stack.append(\"pos\")\n",
    "        # Если это открывающая скобка\n",
    "        elif symbol == \"(\":\n",
    "            stack.append(symbol)\n",
    "        # Если это закрывающая скубка\n",
    "        elif symbol == \")\":\n",
    "            while stack:\n",
    "                v = stack.pop()\n",
    "                if v == \"(\":\n",
    "                    break\n",
    "                result.append(v)\n",
    "        # Если это бинарный оператор\n",
    "        elif symbol in operators:\n",
    "            \"\"\"\n",
    "                Это обычная строка, которая нигде не участвует,\n",
    "                но может быть использована, как многострочный комментарий\n",
    "                \n",
    "                У нас три группы приоритетов операторов\n",
    "                  - максимальный (^, neg)\n",
    "                  - средний (*, /)\n",
    "                  - низкий (+, -)\n",
    "            \"\"\"\n",
    "            \n",
    "            while stack:\n",
    "                # если на вершине не оператор, останавливаемся\n",
    "                # можно добавить проверку на функции, если они будут добавлены\n",
    "                if stack[-1] not in operators:\n",
    "                    break\n",
    "                    \n",
    "                v = stack[-1]\n",
    "                    \n",
    "                psym = operators[symbol]\n",
    "                pv   = operators[v]\n",
    "                \n",
    "                # если приоритет оператора в стеке больше приоритета\n",
    "                # прочитанного символа\n",
    "                if pv > psym:\n",
    "                    result.append(stack.pop())\n",
    "                    continue\n",
    "                # если равны приоритеты и символ в стеке не ^,\n",
    "                # так как это правоассоциативный оператор\n",
    "                elif pv == psym and symbol != \"^\":\n",
    "                    result.append(stack.pop())\n",
    "                    continue\n",
    "                    \n",
    "                # В остальных случаях ничего не делаем\n",
    "                break\n",
    "            stack.append(symbol)\n",
    "            \n",
    "        # неизвестный символ\n",
    "        else:\n",
    "            raise Exception(symbol)\n",
    "            \n",
    "    # очищаем стек в результат\n",
    "    while stack:\n",
    "        result.append(stack.pop())\n",
    "\n",
    "    return result\n",
    "    \n",
    "print(parse(\"2 ^ 3.3 * 4\"))\n",
    "print(parse(\"+2 ^ 3.3 ^ 4\"))\n",
    "print(parse(\"-2 ^ 2 ^ 4\"))\n",
    "print(parse(\"-(2) ^ 2 ^ 4\"))\n",
    "print(parse(\"2 + 1 * 3 ^ 1\"))\n",
    "print(parse(\"(2 + 2) * 2\"))\n",
    "print(parse(\"(-2 - 2) / 2\"))"
   ]
  },
  {
   "cell_type": "markdown",
   "metadata": {},
   "source": [
    "# Построение графа вычислений"
   ]
  },
  {
   "cell_type": "code",
   "execution_count": 304,
   "metadata": {},
   "outputs": [
    {
     "name": "stdout",
     "output_type": "stream",
     "text": [
      "\n",
      "s='-(2^10)/2+(-2)^(8/2)'\n",
      "symbols=['-', '(', '2', '^', '10', ')', '/', '2', '+', '(', '-2', ')', '^', '(', '8', '/', '2', ')']\n",
      "[2, 10, '^', 'neg', 2, '/', -2, 8, 2, '/', '^', '+']\n",
      "-496.0\n"
     ]
    },
    {
     "data": {
      "image/png": "[encoded data removed]",
      "text/plain": [
       "<IPython.core.display.Image object>"
      ]
     },
     "execution_count": 304,
     "metadata": {},
     "output_type": "execute_result"
    }
   ],
   "source": [
    "def make_tree(p):\n",
    "    stack = []\n",
    "    \n",
    "    for s in p:\n",
    "        if type(s) == float or type(s) == int:\n",
    "            node = ConstNode(s)\n",
    "            stack.append(node)\n",
    "        elif s == \"neg\":\n",
    "            a = stack.pop()\n",
    "            op = UnaryMinusNode()\n",
    "            op.add_child(a)\n",
    "            stack.append(op)\n",
    "        elif s in [\"+\", \"-\", \"/\", \"*\", \"^\"]:\n",
    "            b = stack.pop()\n",
    "            a = stack.pop()\n",
    "            if s == \"+\":\n",
    "                op = PlusNode()\n",
    "            elif s == \"-\":\n",
    "                op = MinusNode()\n",
    "            elif s == \"/\":\n",
    "                op = DivNode()\n",
    "            elif s == \"*\":\n",
    "                op = MultNode()\n",
    "            elif s == \"^\":\n",
    "                op = PowerNode()\n",
    "            \n",
    "            op.add_child(a)\n",
    "            op.add_child(b)\n",
    "            stack.append(op)\n",
    "        else:\n",
    "            raise Exception(s)\n",
    "\n",
    "    return stack[0]\n",
    "\n",
    "p = parse(\"-(2 ^ 10) / 2 + (-2) ^ (8/2)\")\n",
    "print(p)\n",
    "root = make_tree(p)\n",
    "print(root.calc())\n",
    "render(root)"
   ]
  }
 ],
 "metadata": {
  "kernelspec": {
   "display_name": "Python 3",
   "language": "python",
   "name": "python3"
  },
  "language_info": {
   "codemirror_mode": {
    "name": "ipython",
    "version": 3
   },
   "file_extension": ".py",
   "mimetype": "text/x-python",
   "name": "python",
   "nbconvert_exporter": "python",
   "pygments_lexer": "ipython3",
   "version": "3.9.10"
  }
 },
 "nbformat": 4,
 "nbformat_minor": 4
}
