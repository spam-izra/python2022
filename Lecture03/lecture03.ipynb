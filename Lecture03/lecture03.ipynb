{
 "cells": [
  {
   "cell_type": "markdown",
   "metadata": {
    "tags": []
   },
   "source": [
    "# Лекция 3. Регулярные выражения"
   ]
  },
  {
   "cell_type": "markdown",
   "metadata": {},
   "source": [
    "> __Регулярные выражения__ - это мощный способ поиска и замены для строк по достаточно сложным условиям. Фактически являются специальным языком шаблонов.\n",
    "\n",
    "С простыми шаблонами мы уже знакомы - проверки на содержимое строки делались довольно часто\n",
    "\n",
    "```\n",
    "if s == \"hello\":\n",
    "  pass\n",
    "```\n",
    "\n",
    "Хотелось бы иметь инструмент, который позволит проводить анализ строки более гибко. Этим инструментом являются _регулярные выражения_. Каждый язык реализует свою библиотеку по работе с этим языком шаблонов. В Python - это сделано в модуле `re`."
   ]
  },
  {
   "cell_type": "code",
   "execution_count": 1,
   "metadata": {},
   "outputs": [],
   "source": [
    "import re"
   ]
  },
  {
   "cell_type": "markdown",
   "metadata": {},
   "source": [
    "Регулярные выражения обычно решают следующие задачи:\n",
    "- `re.match(pattern, string, flags=0)` проверка строки на совпадение с шаблоном\n",
    "- `re.search(pattern, string, flags=0)`, `re.findall(pattern, string, flags)` (поиск подстроки (подстрок) в строке согласно шаблону\n",
    "- ` re.sub(pattern, repl, string, count=0, flags=0)`, `re.subn(pattern, repl, string, count=0, flags=0)` замена подстрок в строке согласно шаблону\n",
    "- `re.split(pattern, string, maxsplit=0, flags=0)` разделение строки на подстроки с помощью шаблона (сложный аналог split)"
   ]
  },
  {
   "cell_type": "markdown",
   "metadata": {
    "tags": []
   },
   "source": [
    "# Метасимволы\n",
    "\n",
    "Следующие символы являются специальными и обрабатываются особенным образом\n",
    "```\n",
    ". ^ $ * + ? { } [ ] \\ | ( )\n",
    "```\n",
    "\n",
    "Если необходимо обработать данные символы в виде обычных символов, мы можем использовать экранировку - просто добавить символ `\\` перед нужным символом. Например `\\^`, `\\{`."
   ]
  },
  {
   "cell_type": "markdown",
   "metadata": {},
   "source": [
    "Все остальные символы внутри шаблона воспринимаются как есть. Если написано `a`, то это означает, что требуется совпадение с символом `a`."
   ]
  },
  {
   "cell_type": "markdown",
   "metadata": {},
   "source": [
    "# Набор\n",
    "\n",
    "Метасимволы `[` и `]` позволяют задать набор символов (класс символа), под которые должен подходить __один__ символ строки. Для этого внутри скобок перечисляются подходящие символы. Если `-` используется как символ, а не диапазон, то он должен указываться последним. Также можно указывать диапазон (согласно таблице кодировки). Метасимфолы внутри скобок не работают.\n",
    "\n",
    "Например: \n",
    "- `[0-9]` - число от 0 до 9\n",
    "- `[uaw]` - один символ, либо u, либо a, либо w\n",
    "- `[0-9a-zA-Z-]` - буквы, цифры и знак дефиса"
   ]
  },
  {
   "cell_type": "code",
   "execution_count": 6,
   "metadata": {},
   "outputs": [],
   "source": [
    "# [uaw] эквивалентно следующему коду\n",
    "\n",
    "char = 'a'\n",
    "result = char in ['u', 'a', 'w']"
   ]
  },
  {
   "cell_type": "markdown",
   "metadata": {},
   "source": [
    "Если добавить в начале символ `^`, то это инвертирует условие\n",
    "\n",
    "Например: \n",
    "- `[^0-9]` - все что угодно, кроме чисел от 0 до 9\n",
    "- `[^uaw]` - любой символ, кроме u, a и w\n",
    "- `[^0-9a-zA-Z-]` - любой символ, кроме буквы, цифры и знака дефиса"
   ]
  },
  {
   "cell_type": "code",
   "execution_count": 4,
   "metadata": {},
   "outputs": [],
   "source": [
    "# [^uaw] эквивалентно следующему коду\n",
    "\n",
    "char = 'a'\n",
    "result = char not in ['u', 'a', 'w']"
   ]
  },
  {
   "cell_type": "markdown",
   "metadata": {},
   "source": [
    "Помимо этого, существуют алиасы наиболее популярных наборов (это не все)\n",
    "\n",
    "- `\\d` - эквивалентно `[0-9]`\n",
    "- `\\D` - эквивалентно `[^0-9]`\n",
    "- `\\s` - эквивалентно `[ \\t\\n\\r\\f\\v]`\n",
    "- `\\S` - эквивалентно `[^ \\t\\n\\r\\f\\v]`\n",
    "- `\\w` - эквивалентно `[a-zA-Z0-9_]`\n",
    "- `\\W` - эквивалентно `[^a-zA-Z0-9_]`"
   ]
  },
  {
   "cell_type": "markdown",
   "metadata": {},
   "source": [
    "Алиасы можно использовать по отдельности, так и внутри `[]`.\n",
    "- `[\\s\\w]` - любая буква, цифра, символ _ и пробельные символы\n",
    "- `\\d`, `[\\d]` и `[0-9]` - это одно и тоже обозначение цифры"
   ]
  },
  {
   "cell_type": "code",
   "execution_count": 102,
   "metadata": {},
   "outputs": [
    {
     "name": "stdout",
     "output_type": "stream",
     "text": [
      "True\n",
      "True\n",
      "True\n",
      "False\n"
     ]
    }
   ],
   "source": [
    "# match возвращает объект Match(информация об найденном), если что-то нашли и None, если ничего не найдено\n",
    "\n",
    "print(re.match(r'[\\d]', \"1\") is not None)\n",
    "print(re.match(r'\\d', \"1\") is not None)\n",
    "print(re.match(r'[0-9]', \"1\") is not None)\n",
    "print(re.match(r'\\d', \"a\") is not None)"
   ]
  },
  {
   "cell_type": "markdown",
   "metadata": {},
   "source": [
    "Здесь выше используется литерал \"сырой\"(raw) строки. В этой строки все символы воспринимаются как есть (`\\n` - это два символа, а не символ переноса строки). Без этого пришлось бы писать так `[\\\\d]`"
   ]
  },
  {
   "cell_type": "markdown",
   "metadata": {},
   "source": [
    "# Джокер\n",
    "\n",
    "Метасимвол `.` обозначает просто любой символ, за исключением символа переноса строки. Если включить режим `re.DOTALL`, то включает и его."
   ]
  },
  {
   "cell_type": "markdown",
   "metadata": {},
   "source": [
    "# Комбинирование\n",
    "\n",
    "Все выше описанное можно использовать для описания совокупности символов внутри строки\n",
    "- `\\d\\d` - две любых цифры\n",
    "- `[ab][cd]` - строки ac, ad, bc, bd\n",
    "- `.a` - все строки из двух символов, оканчивающиеся на `a`\n",
    "- `...` - любая строка из трех символов\n",
    "- `[aA]..` - любоая строка из трех символов, начинающая с `a` или `A`"
   ]
  },
  {
   "cell_type": "markdown",
   "metadata": {},
   "source": [
    "# Квантификаторы\n",
    "\n",
    "Все выше, конечно, удобно, но что делать если не всегда известно сколько символов в слове или строке? Или стоит задача найти все слова начинающиеся с буквы `A`?\n",
    "\n",
    "На помощь приходят __квантификаторы__, они определяют сколько раз должны повторятся стоящие перед ними символ, класс или группа.\n",
    "\n",
    "- `{n}` - повторяется ровно n раз\n",
    "- `{n,m}` - повторяется от n до m раз\n",
    "- `{n,}` - повторяется не менее n раз\n",
    "- `{,m}` - повторяется не более m раз\n",
    "- `?` или `{0,1}` - повторяется один и менее раз\n",
    "- `*` или `{0,}` - повторяется от нуля до любого количества раз\n",
    "- `+` или `{1,}` - повторяется от одного раза до любого количества\n",
    "\n",
    "Примеры\n",
    "- `aaa` или `a{3}` - совпадает со сторокой `aaa`\n",
    "- `[ab]{2}` - строки aa, ab, ba, bb\n",
    "- `.*` - строка из любого количества любых символов\n",
    "- `a+` - строки `a`, `aa`, `aaa`, ...\n",
    "- `[aA].*` - строка начинающаяся с буквы `a`"
   ]
  },
  {
   "cell_type": "markdown",
   "metadata": {},
   "source": [
    "Важно отметить, что квантификаторы выше - \"жадные\". Они пытаются откусить максимально возможный кусок от строки."
   ]
  },
  {
   "cell_type": "code",
   "execution_count": 105,
   "metadata": {},
   "outputs": [
    {
     "data": {
      "text/plain": [
       "'aaaaaaaa'"
      ]
     },
     "execution_count": 105,
     "metadata": {},
     "output_type": "execute_result"
    }
   ],
   "source": [
    "m = re.match(\"a+\", \"aaaaaaaabbbb\")\n",
    "m.group()"
   ]
  },
  {
   "cell_type": "markdown",
   "metadata": {},
   "source": [
    "Чтобы изменить поведение с \"жадного\" на \"ленивое\" (минимально возможная строка) нужно добавить к квантификатору знак `?`\n",
    "\n",
    "- `+?`\n",
    "- `*?`\n",
    "- `{n,m}?`"
   ]
  },
  {
   "cell_type": "code",
   "execution_count": 107,
   "metadata": {},
   "outputs": [
    {
     "name": "stdout",
     "output_type": "stream",
     "text": [
      "<span class=\"title\">Hello World</span>\n",
      "<span class=\"title\">\n"
     ]
    }
   ],
   "source": [
    "s = '<span class=\"title\">Hello World</span>'\n",
    "\n",
    "m = re.search(r'<.*>', s)\n",
    "print(m[0])\n",
    "\n",
    "m = re.search(r'<.*?>', s)\n",
    "print(m[0])"
   ]
  },
  {
   "cell_type": "markdown",
   "metadata": {},
   "source": [
    "# Или\n",
    "\n",
    "Имеется возможность добавить альтернативный шаблоны с помощью метасимвола `|`\n",
    "\n",
    "- `asd|zxc|qwe` - либо строка asd, либо строка zxc\n",
    "- `Hello|[aA].*` - либо Hello, либо любое слово на a"
   ]
  },
  {
   "cell_type": "markdown",
   "metadata": {},
   "source": [
    "# Группы\n",
    "\n",
    "С помощью метасимволов `(` и `)` можно выделять группы внутри шаблона. Их можно использовать для извлечения информации, так и для дополнительного уточнения шаблона. Группы нумеруются по порядку счета открывающих скобок слева направо. У самого шаблона нулевая группа.\n",
    "\n",
    "- `(asd)(zxc)` - строка asdzxc, разбитая на две группы\n",
    "- `(Hello|Hi) World!` - строки `Hello World!` и `Hi World!`\n",
    "- `(Hello)+` - строки `Hello`, `HelloHello`, `HelloHelloHello`, ..."
   ]
  },
  {
   "cell_type": "code",
   "execution_count": 108,
   "metadata": {},
   "outputs": [
    {
     "name": "stdout",
     "output_type": "stream",
     "text": [
      "abababababab ab\n"
     ]
    }
   ],
   "source": [
    "m = re.search(r\"(ab)+\", \"abababababab\")\n",
    "print(m.group(0), m.group(1))"
   ]
  },
  {
   "cell_type": "markdown",
   "metadata": {},
   "source": [
    "# Начало и конец\n",
    "\n",
    "- `^` - данный символ обозначает начало строки (меняет свое поведение в зависимости от флага `re.MULTILINE`)\n",
    "- `$` - обозначает конец строки (меняет свое поведение в зависимости от флага `re.MULTILINE`)"
   ]
  },
  {
   "cell_type": "code",
   "execution_count": 110,
   "metadata": {},
   "outputs": [
    {
     "name": "stdout",
     "output_type": "stream",
     "text": [
      "[]\n",
      "['Donec interdum tellus et urna efficitur, vitae placerat lorem pellentesque. ', 'Donec lacinia mi in lacinia tristique. ', 'Duis id elit et mauris tincidunt placerat. ', 'Duis at quam nec nunc pretium dapibus sed eget eros. ', 'Donec eget quam tempus, faucibus leo pulvinar, lacinia dui. ', 'Donec mollis velit eget tortor commodo, eu sollicitudin mi pharetra. ', 'Donec laoreet luctus rhoncus. ']\n"
     ]
    }
   ],
   "source": [
    "text = \"\"\"\n",
    "Lorem ipsum dolor sit amet, consectetur adipiscing elit. \n",
    "Pellentesque et mi ultrices neque elementum dignissim a ac dolor. \n",
    "Nulla at orci non purus mollis finibus. \n",
    "Donec interdum tellus et urna efficitur, vitae placerat lorem pellentesque. \n",
    "Donec lacinia mi in lacinia tristique. \n",
    "Suspendisse turpis risus, faucibus vel lacus vel, viverra pulvinar eros. \n",
    "Duis id elit et mauris tincidunt placerat. \n",
    "Cras mollis id mi vitae pulvinar. \n",
    "Duis at quam nec nunc pretium dapibus sed eget eros. \n",
    "Maecenas ultrices porttitor enim id viverra. \n",
    "Praesent imperdiet orci ullamcorper arcu malesuada, vel consectetur mi sagittis. \n",
    "Suspendisse mollis aliquet metus vitae egestas. \n",
    "Donec eget quam tempus, faucibus leo pulvinar, lacinia dui. \n",
    "Fusce in metus eros. \n",
    "Donec mollis velit eget tortor commodo, eu sollicitudin mi pharetra. \n",
    "Vestibulum fermentum dui in velit egestas tincidunt. \n",
    "Donec laoreet luctus rhoncus. \n",
    "\"\"\"\n",
    "\n",
    "print(re.findall(r'^D.*', text))\n",
    "print(re.findall(r'^d.*', text, re.MULTILINE|re.IGNORECASE))"
   ]
  },
  {
   "cell_type": "code",
   "execution_count": 111,
   "metadata": {},
   "outputs": [
    {
     "name": "stdout",
     "output_type": "stream",
     "text": [
      "[]\n",
      "['Donec eget quam tempus, faucibus leo pulvinar, lacinia dui. ']\n"
     ]
    }
   ],
   "source": [
    "print(re.findall(r'.*I\\.\\s?$', text))\n",
    "print(re.findall(r'.*I\\.\\s?$', text, re.MULTILINE|re.IGNORECASE))"
   ]
  },
  {
   "cell_type": "code",
   "execution_count": 43,
   "metadata": {},
   "outputs": [
    {
     "data": {
      "text/plain": [
       "('0b1000', '0b10')"
      ]
     },
     "execution_count": 43,
     "metadata": {},
     "output_type": "execute_result"
    }
   ],
   "source": [
    "bin(re.MULTILINE), bin(re.IGNORECASE)"
   ]
  },
  {
   "cell_type": "markdown",
   "metadata": {},
   "source": [
    "# Обратная связь\n",
    "\n",
    "Группы удобно использовать при заменах, значения пойманное в группу можно использовать повторно.\n",
    "- `\\g<1>` - первая группа\n",
    "- `\\1` - первая группа"
   ]
  },
  {
   "cell_type": "code",
   "execution_count": 112,
   "metadata": {},
   "outputs": [
    {
     "name": "stdout",
     "output_type": "stream",
     "text": [
      "lfdsgf kadjfg lsdkjg sdg.j as.djkg. Hi World! sal asd jghkw gh\n",
      "lfdsgf kadjfg lsdkjg sdg.j as.djkg. Hi World! sal asd jghkw gh\n"
     ]
    }
   ],
   "source": [
    "# Компилируем выражение (положительно влияет на скорость, если использовать часто)\n",
    "rx = re.compile(r'Hello\\s+(.+?)!')\n",
    "\n",
    "s = \"lfdsgf kadjfg lsdkjg sdg.j as.djkg. Hello World! sal asd jghkw gh\"\n",
    "\n",
    "print(rx.sub(r\"Hi \\1!\", s))\n",
    "print(rx.sub(r\"Hi \\g<1>!\", s))"
   ]
  },
  {
   "cell_type": "markdown",
   "metadata": {},
   "source": [
    "# Пример\n",
    "\n",
    "Разбор даты в ISO"
   ]
  },
  {
   "cell_type": "code",
   "execution_count": 114,
   "metadata": {},
   "outputs": [],
   "source": [
    "date1 = '2007-03-01T13:00:00Z'\n",
    "date2 = '2007-03-01T13:00:00+03:30'\n",
    "date3 = '2005-08-09T18:31:42.201'\n",
    "\n",
    "\n",
    "rx = re.compile(\n",
    "    r'^(\\d{4})-(\\d{2})-(\\d\\d)T(\\d{2}):(\\d{2}):(\\d{2})(\\.[0-9]{3})?(Z|[+-]\\d\\d:\\d\\d)?$'\n",
    ")"
   ]
  },
  {
   "cell_type": "code",
   "execution_count": 115,
   "metadata": {},
   "outputs": [
    {
     "data": {
      "text/plain": [
       "('2007', '03', '01', '13', '00', '00', None, 'Z')"
      ]
     },
     "execution_count": 115,
     "metadata": {},
     "output_type": "execute_result"
    }
   ],
   "source": [
    "m = rx.search(date1)\n",
    "m.groups()"
   ]
  },
  {
   "cell_type": "code",
   "execution_count": 93,
   "metadata": {},
   "outputs": [
    {
     "data": {
      "text/plain": [
       "('2007', '03', '01', '13', '00', '00', None, '+03:30')"
      ]
     },
     "execution_count": 93,
     "metadata": {},
     "output_type": "execute_result"
    }
   ],
   "source": [
    "m = rx.search(date2)\n",
    "m.groups()"
   ]
  },
  {
   "cell_type": "code",
   "execution_count": 94,
   "metadata": {},
   "outputs": [
    {
     "data": {
      "text/plain": [
       "('2005', '08', '09', '18', '31', '42', '.201', None)"
      ]
     },
     "execution_count": 94,
     "metadata": {},
     "output_type": "execute_result"
    }
   ],
   "source": [
    "m = rx.search(date3)\n",
    "m.groups()"
   ]
  }
 ],
 "metadata": {
  "kernelspec": {
   "display_name": "Python 3",
   "language": "python",
   "name": "python3"
  },
  "language_info": {
   "codemirror_mode": {
    "name": "ipython",
    "version": 3
   },
   "file_extension": ".py",
   "mimetype": "text/x-python",
   "name": "python",
   "nbconvert_exporter": "python",
   "pygments_lexer": "ipython3",
   "version": "3.9.10"
  }
 },
 "nbformat": 4,
 "nbformat_minor": 4
}
