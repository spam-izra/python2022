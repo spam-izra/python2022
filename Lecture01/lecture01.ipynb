{
 "cells": [
  {
   "cell_type": "markdown",
   "metadata": {},
   "source": [
    "# Лекция 1. Сложность\n",
    "\n",
    "* Алгоритмическая сложность\n",
    "* Представление чисел"
   ]
  },
  {
   "cell_type": "markdown",
   "metadata": {},
   "source": [
    "## Git\n",
    "\n",
    "> **Git** - это распределенная система контроля версий. Реализована в виде консольной утилиты. Для удобства работы с ней существуют различные визуальные приложения: TortoiseGit, GitKraken и другие.\n",
    "\n",
    "Основным элементом данной системы выступает репозиторий. Это сущность, в которой хранится вся информация об всех документах, которые отслеживаются данным репозиторием. Каждый репозиторий полностью самостоятелен. Грубо говоря, репозиторий - это обычная папка с файлами и другими папками. Любой файл внутри репозитория может быть помечен (добавлен в репозиторий) для отслеживания его состояния."
   ]
  },
  {
   "cell_type": "markdown",
   "metadata": {},
   "source": [
    "Каждый репозиторий состоит из, так называемых, веток (branch). Каждая из них состоит из истории изменений. Формально, каждая ветка - это почти свой маленький репозиторий, единственная разница - ветки могут зависеть друг от друга. Обычно в репозитории есть как минимум одна основная ветка - *master*."
   ]
  },
  {
   "cell_type": "markdown",
   "metadata": {},
   "source": [
    "### Создание репозитория\n",
    "\n",
    "Создвать репозиторий легко. Запускаем терминал/консоль. Создаем любую папку, заходим в нее и внутри пишем:\n",
    "```\n",
    "git init\n",
    "```\n",
    "\n",
    "Это создаст папку `.git`, в которой будет хранится вся информация о репозитории."
   ]
  },
  {
   "cell_type": "markdown",
   "metadata": {},
   "source": [
    "Следующая команда позволяет проверить текущее состояние репозитория: данные которые не были добавлены, какая текущея ветка и многое другое\n",
    "```\n",
    "git status\n",
    "```"
   ]
  },
  {
   "cell_type": "markdown",
   "metadata": {},
   "source": [
    "Следующая команда показывает отличие от последнего сохраненного состояния файлов\n",
    "```\n",
    "git diff\n",
    "```"
   ]
  },
  {
   "cell_type": "markdown",
   "metadata": {},
   "source": [
    "### Добавление файлов\n",
    "\n",
    "Чтобы добавить файл в репозиторий или добавить данные об его изменении нужно для начала создать/отредактировать файл внутри папки или подпапки в репозитории. Затем выполнить команду для одного файла\n",
    "```\n",
    "git add <path to file>\n",
    "```\n",
    "или для всех файлов в репозитории разом\n",
    "```\n",
    "git add -A\n",
    "```"
   ]
  },
  {
   "cell_type": "markdown",
   "metadata": {},
   "source": [
    "Или если добавили файл по ошибке, то может отменить его запоминание\n",
    "```\n",
    "git reset <path to file>\n",
    "```"
   ]
  },
  {
   "cell_type": "markdown",
   "metadata": {},
   "source": [
    "Или если мы хотим отменить все изменения в файле и вернуть его к последнему состоянию в репозитории\n",
    "```\n",
    "git checkout <path to file>\n",
    "```"
   ]
  },
  {
   "cell_type": "markdown",
   "metadata": {},
   "source": [
    "### Фиксация изменений\n",
    "\n",
    "После каждого раза, когда мы добавляем информацио об изменнии файла, нам нужно сохранить эту информацию внутри репозитория в виде коммита (commit). Это сущность содержит в себе порцию всех зарегистрированных изменений. Сами коммиты образуют взаимосвязанное дерево. У каждого коммита есть свой уникальный идентификационный номер.\n",
    "\n",
    "```\n",
    "git commit -m \"Комментарий к записи\"\n",
    "```"
   ]
  },
  {
   "cell_type": "markdown",
   "metadata": {},
   "source": [
    "### История изменений\n",
    "\n",
    "Прямая хронологическая зависимость до последнего коммита в текущей ветке образует историю изменений. Мы можем переключится на состояние файла в любой момент этой истории. Следующая команда показывает эту историю и заодной идентификатор каждого коммита\n",
    "\n",
    "```\n",
    "git log\n",
    "```\n",
    "\n",
    "После этого можно перейти на любой коммит (можно указать только первые 7 букв, а не целиком)\n",
    "\n",
    "```\n",
    "git checkout <commit_id>\n",
    "```\n",
    "\n",
    "Или вернуться назад на последний коммит в ветке master (можно заменить на любую другую ветку)\n",
    "```\n",
    "git checkout master\n",
    "```"
   ]
  },
  {
   "cell_type": "markdown",
   "metadata": {},
   "source": [
    "### Ветки\n",
    "\n",
    "Каждая ветка - это отдельная хронологическая история. В любой момент этой истории можно создать новую ветку исходящую из любого коммита. Создать ветку легко\n",
    "\n",
    "```\n",
    "git checkout -b <branch name>\n",
    "```\n",
    "\n",
    "\n",
    "Ветки позволяет вести независимую разработку без необходимости порчи кода/текста в основной ветке. Если нас устраивает работа, то мы можем взять все изменения из ветки разработки влить (читай просто вставить в историю) в любую другую ветку, например основную.\n",
    "\n",
    "Переключатся между ветками можно с помощью команды `checkout`"
   ]
  },
  {
   "cell_type": "markdown",
   "metadata": {},
   "source": [
    "Влить изменения из одной ветки в текущую можно командой\n",
    "\n",
    "```\n",
    "git merge <branch name>\n",
    "```\n",
    "\n",
    "\n",
    "Помимо слияния есть перебазирование. В этом случае переписывается история коммитов и недостающие коммиты вписываются в историю. В случае слияния, само слияние становится частью истории."
   ]
  },
  {
   "cell_type": "markdown",
   "metadata": {},
   "source": [
    "### Несколько репозиториев\n",
    "\n",
    "До этого мы работали только с одним репозиторием, но git отлично себя чувствует при работе с несколькими репозиториями. Дополнительные репозитории могут храниться локально или на удаленном сервере (github, bitbucket, gitlab и другие). Все ссылки можно получит через \n",
    "```\n",
    "git remote\n",
    "```\n",
    "\n",
    "\n",
    "Данная команда позволяет сделать клон удаленного репозитория с сохранением ссылки, откуда этот репозиторий был склонирован. \n",
    "```\n",
    "git clone <path to repo>\n",
    "```\n",
    "\n",
    "\n",
    "\n",
    "Клонированный репозиторий является независимым репозиторием. Мы можем делать в нем все, что нам угодно и это никак не отразиться на удаленном репозитории."
   ]
  },
  {
   "cell_type": "markdown",
   "metadata": {},
   "source": [
    "### Подтягивание и выталкивание изменений \n",
    "\n",
    "Чтобы получить все последние изменения из удаленного репозитория, нам достаточно в нужной ветке выполнить \n",
    "```\n",
    "git pull\n",
    "```\n",
    "\n",
    "Это добавит все коммиты из удаленного репозитория с одноименной веткой.\n",
    "\n",
    "\n",
    "Если мы добавим какие-то изменнения в локальную ветку, мы можем их вытолкнуть в удаленной репозиторий\n",
    "```\n",
    "git push\n",
    "```"
   ]
  },
  {
   "cell_type": "markdown",
   "metadata": {},
   "source": [
    "## Что почитать\n",
    "\n",
    "* Подробнее здесь: https://githowto.com/ru\n",
    "* Рекомендации к организации репозитория: https://habr.com/ru/post/106912/"
   ]
  },
  {
   "cell_type": "markdown",
   "metadata": {},
   "source": [
    "# Требование к домашней работе\n",
    "\n",
    "Для выполнения домашней работы разрешено использовать исключительно только стандартную сборку Python и его стандартную библиотеку. Никакие друггие модули использовать нельзя.\n",
    "\n",
    "Вся домашняя работа должна быть в одном репозитории и в ветке master (другие ветки создавать можно, но они будут проигнорированы). В данной ветке должны быть папки, имя папки должно совпадать с названием папки соответствующей лекции. Внутри данной директории должны быть отдельные папки по каждому домашнему заданию с именем `taskX`, где `X` - это номер задачи. Внутри данной папки может находится любое количество файлов, но при этом должен находится **строго один** файл `task.py`, который и должен решать поставленную задачу. \n",
    "\n",
    "Домашняя работа по Advent of Code должна располагаться в папках `dayX`, где `X` - это номер дня. Внутри может быть любое количество файлов, но только один файл `part1.py` и один файл `part2.py`, которые решают первую и вторую часть задачи, соответственно.\n",
    "\n",
    "Все задачи должны принимать файл с именем `input.txt` и выводить свой ответ в файл `output.txt` в том виде, который описан в задаче. \n",
    "\n",
    "Любые работы с отличной от этого структурой <font color=\"red\">рассматриваться не будут</font>.\n",
    "\n",
    "Пример организации домашней работы для этой лекции\n",
    "```\n",
    "YourRepository\n",
    "|--- Lecture1\n",
    "|     \\--- task1\n",
    "|          |--- input.txt\n",
    "|          |--- output.txt\n",
    "|          \\--- task.py  \n",
    "\\--- day1\n",
    "     |--- input.txt\n",
    "     |--- output1.txt\n",
    "     |--- output2.txt\n",
    "     |--- part1.py\n",
    "     \\--- part2.py\n",
    "```"
   ]
  },
  {
   "cell_type": "markdown",
   "metadata": {},
   "source": [
    "## Домашняя работа\n",
    "\n",
    "Задачи к домашней работе представлены здесь: https://adventofcode.com/2015\n",
    "\n",
    "\n",
    "> для зачета - все задачи от 1 до 15 дня, из них первые 10 задач должны быть решены полностью (первая и вторая часть).\n",
    "\n",
    "\n",
    "Помимо этого до первой контрольной точки обязательно сделать первую часть всех задач до 10го дня. В противном случае вы не будете допущены к сдаче контрольной точки."
   ]
  },
  {
   "cell_type": "markdown",
   "metadata": {},
   "source": [
    "# Асимптотическая сложность алгоритмов и O-нотация"
   ]
  },
  {
   "cell_type": "markdown",
   "metadata": {},
   "source": [
    "**O-нотация** - это один из способов обозначения сложности алгоритмов.\n",
    "\n",
    "Выделают обычно две характеристики алгоритма:\n",
    "* *Время* - это сколько времени нужно для работы данного алгоритмы. Так как потребление времени очень относительно и зависит от \"железа\", то вместо единиц измерения времени используют количество операций. Под операцией подразумевается одно некоторое элементарное действие, например `a+b`, `a/1000`, `min(a,b)`.\n",
    "* *Память* - это сколько памяти использует алгоритм для своей работы. Память измеряется в элементарных ячейках, куда можно положить элементарные числа. Это означает, что 4-байтовое целое число и 2-байтовое целое число занимают одну ячейку.\n",
    "\n",
    "https://www.bigocheatsheet.com/"
   ]
  },
  {
   "cell_type": "markdown",
   "metadata": {
    "tags": []
   },
   "source": [
    "### Правила работы с O-нотацией\n",
    "\n",
    "$$\n",
    "\\begin{split}\n",
    "O(100n) &\\equiv O(n)\n",
    "\\\\\n",
    "O(100n^2) &\\equiv O(n^2)\n",
    "\\\\\n",
    "O(5 n \\ln n) &\\equiv O(n \\ln n)\n",
    "\\end{split}\n",
    "$$\n",
    "\n",
    "$$\n",
    "\\begin{split}\n",
    "O(n + n^2) &\\equiv O(n^2)\n",
    "\\\\\n",
    "O(n + 100) &\\equiv O(n)\n",
    "\\\\\n",
    "O(n! + n \\ln n) &\\equiv O(n!)\n",
    "\\\\\n",
    "O(2^n + n^{10}) &\\equiv O(2^n)\n",
    "\\end{split}\n",
    "$$\n",
    "\n",
    "\n",
    "Если очень просто, то нас интересует всегда часть с $n$, которая растет наиболее стремительно. Отдельно есть обозначение $O(1)$ - это означает просто некоторую константу (это не обязательно единица)."
   ]
  },
  {
   "cell_type": "markdown",
   "metadata": {},
   "source": [
    "### Сложность\n",
    "\n",
    "O-нотация очень удобна при описании сложности алгоритма. Она обозначает сколько времени или памяти требуется алгоритму в зависимости от неких входных данных. Обычно у алгоритма есть два предельных варианта его работы: наихудший и наилучший. В наихудшем варианте - это сложность алгоритма в наихудшей для него ситуации, наилучший - это, соответственно, самая благоприятная для работы ситуация.\n",
    "\n",
    "Например, рассмотрим задачу поиска индекса элемента в некотором упорядоченном списке. Тривиальный алгоритм - это просто перебирать элементы от начала списка, пока не найдем нужный. Наихудший вариант - нужный элемент будет находится в конце списка, наилучший - в начале."
   ]
  },
  {
   "cell_type": "code",
   "execution_count": 29,
   "metadata": {},
   "outputs": [
    {
     "name": "stdout",
     "output_type": "stream",
     "text": [
      "0 9\n"
     ]
    }
   ],
   "source": [
    "def find(el, arr):\n",
    "    for i in range(len(a)):\n",
    "        if el == a[i]:\n",
    "            return i\n",
    "    return -1\n",
    "\n",
    "a = [1, 2, 3, 4, 5, 6, 7, 8, 9, 10]\n",
    "\n",
    "print(find(1, a), find(10, a))"
   ]
  },
  {
   "cell_type": "markdown",
   "metadata": {},
   "source": [
    "Таким образом, пусть $n$ - это длина массива. Одна операция - это проверка тот ли этот элемент или нет. Стоить отметить, что при проверке на самом деле происходит множество операций, но для того, чтобы это не превращалось в ад, это обычно не учитыват. Таким образом, нам нужно в худшем случае $n$ операций, чтобы найти элемент и в наилучшем - 1 операция. Таким образом сложность по времени поиска элемента в списке - это $O(n)$ для худшего случая и $O(1)$ для наилучшего. Последнее обычно читают как константное время."
   ]
  },
  {
   "cell_type": "markdown",
   "metadata": {},
   "source": [
    "Можно ли лучше? Можно. Рассмотрим бинарный поиск. В этом случае, мы смотрим на элемент посередине, если он больше нашего искомого элемента, то индекс слева, если меньше - справа. Далее берем середину отрезка с найденной стороны и проделываем ту же операцию. Очень похоже на поиск слова в словаре.\n",
    "\n",
    "Алгоритм:\n",
    "\n",
    "0) Инициализируем края отрезка возможных индексов 0 и индексом последнего элемента.\n",
    "1) Определить значение в центре интересуемого отрезка индексов в списке.\n",
    "2) Если это значение больше искомого элемента, то искать нужно левее, если меньше - правее. Выставить новые края отрезка индексов в списке\n",
    "3) Перейти к пункту 1 для нового отрезка"
   ]
  },
  {
   "cell_type": "code",
   "execution_count": 21,
   "metadata": {},
   "outputs": [
    {
     "name": "stdout",
     "output_type": "stream",
     "text": [
      "0 9\n"
     ]
    }
   ],
   "source": [
    "def bfind(el, arr, *, begin=None, end=None):\n",
    "    if len(arr) == 0:\n",
    "        return -1\n",
    "    \n",
    "    begin = 0 if begin is None else begin\n",
    "    end = len(arr) - 1 if end is None else end\n",
    "    \n",
    "    if begin > end:\n",
    "        return -1\n",
    "\n",
    "    center = (begin + end) // 2\n",
    "    value = arr[center]\n",
    "    if value == el:\n",
    "        return center\n",
    "\n",
    "    if value < el:\n",
    "        return bfind(el, arr, begin=center+1, end=end)\n",
    "    else:\n",
    "        return bfind(el, arr, begin=begin, end=center-1)\n",
    "        \n",
    "    return -1\n",
    "    \n",
    "a = [1, 2, 3, 4, 5, 6, 7, 8, 9, 10]\n",
    "\n",
    "\n",
    "print(bfind(1, a), bfind(10, a))"
   ]
  },
  {
   "cell_type": "markdown",
   "metadata": {},
   "source": [
    "Легко увидеть, что наилучший вариант - это когда искомый элемент будет стоять в середине списка. В этом случае сложность будет также $O(1)$.\n",
    "\n",
    "А вот наихудший находится хитрее. Каждый шаг поиска уменьшает эту задачу вдвое. Это можно сделать только $k$-раз, где $k$ - это столько раз, нам нужно поделить отрезки на два, чтобы в конце остался 1 элемент. То есть фактически, нам нужно найти минимальное значение $k$, такое, что $2^k \\ge n$. Это приближенно будет $k = \\ln n$. Таким образом, наихудший вариант дает $O(\\ln n)$."
   ]
  },
  {
   "cell_type": "code",
   "execution_count": 30,
   "metadata": {},
   "outputs": [
    {
     "data": {
      "image/png": "[encoded data removed]",
      "text/plain": [
       "<Figure size 432x288 with 1 Axes>"
      ]
     },
     "metadata": {
      "needs_background": "light"
     },
     "output_type": "display_data"
    }
   ],
   "source": [
    "import matplotlib.pyplot as plt\n",
    "import numpy as np\n",
    "%matplotlib inline\n",
    "\n",
    "x = np.linspace(1, 20)\n",
    "linear = x\n",
    "binary = np.log(x)\n",
    "\n",
    "plt.plot(x, linear, label=\"Linear\")\n",
    "plt.plot(x, binary, label=\"Binary\")\n",
    "plt.legend()\n",
    "plt.grid()\n",
    "plt.show()"
   ]
  },
  {
   "cell_type": "markdown",
   "metadata": {},
   "source": [
    "Не смотря на то, что бинарный поиск работает лучше - он требует отсортированный массив данных. Из-за этого нельзя отказаться от линейного поиска, так как он работает на любых массивах данных. Именно этот поиск реализован при поиске индекса по значению в Python.\n",
    "\n",
    "Бинарный поиск - это хороший пример, когда усложнение структуры данных (отсортированных массив данных, вместо произвольного), может приводить к значительному ускорнию работы вашей программы. Нередко это приводит к повышенному потреблению оперативной памяти.\n",
    "\n",
    "В наших примерах выше, сложность по памяти - это $O(n)$.\n",
    "\n",
    "\n",
    "\n",
    "Чаще всего, время и память являются взаимозаменяемыми ресурсами алгоритма. Мы можем частенько ускорить программу, но ценной повешенного потребления памяти и наоборот. Иногда получается найти компромиссный вариант. Часто имеются алгоритмы реализующие эти варианты по отдельности: эффективны по памяти, эффективны по времени, компромиссный вариант."
   ]
  },
  {
   "cell_type": "markdown",
   "metadata": {
    "tags": []
   },
   "source": [
    "### Зачем?\n",
    "\n",
    "На практике, кроме математиков, никто не вычисляет асимптотическую сложность алгоритмов. Но по факту, очень полезно уметь в голове ее оценивать хотя бы приблизительно. В этом случае, вы сможете заранее оценить эффективность того или иногда алгоритма, а также подобрать какой-нибудь более подходящий для текущей задачи алгоритм."
   ]
  },
  {
   "cell_type": "markdown",
   "metadata": {},
   "source": [
    "Часто можно оценить сложность на глаз. Циклы - это сложность $O(n)$, где $n$ - количество итераций цикла. Вложенные циклы - это $O(n*m)$, где $m$ - количество итераций вложенного цикла. Сложность последовательный операций - это $O(1)$."
   ]
  },
  {
   "cell_type": "code",
   "execution_count": 28,
   "metadata": {},
   "outputs": [],
   "source": [
    "def SomeFunc(el, m, arr):\n",
    "    for _ in range(m):\n",
    "        idx = bfind(el, arr) \n",
    "        \n",
    "    for _ in range(10):\n",
    "        a = 1"
   ]
  },
  {
   "cell_type": "markdown",
   "metadata": {},
   "source": [
    "Сложность данного кода: $O(m \\ln n + 10) \\equiv Q(m \\ln n)$."
   ]
  },
  {
   "cell_type": "markdown",
   "metadata": {
    "jp-MarkdownHeadingCollapsed": true,
    "tags": []
   },
   "source": [
    "# Домашняя работа\n",
    "\n",
    "# Задача 1 (разминка)\n",
    "\n",
    "Имеется `input.txt`, например, со следуюшим содержимым\n",
    "```\n",
    "5\n",
    "0\n",
    "2\n",
    "5\n",
    "6\n",
    "8\n",
    "9 1 0 6\n",
    "```\n",
    "\n",
    "В первой строке находится целое число $N$ (в примере - это 5). Далее идет $N$-строк, в каждой строке содержится одно целое число. Эти $N$ чисел формируют список. Для примера выше - это будет `[0, 2, 5, 6, 8]`\n",
    "\n",
    "На последней строке находятся целые числа разделенные пробелом.\n",
    "\n",
    "Задача: найти индексы чисел из последней строчки в прочитанном списке из $N$ элементов. Если такого числа в списке нет, то вывести -1. Индексы вывести в файл `output.txt`, каждый индекс в отдельной строке.\n",
    "\n",
    "Пример `output.txt` для данных выше\n",
    "```\n",
    "-1\n",
    "-1\n",
    "0\n",
    "3\n",
    "```"
   ]
  }
 ],
 "metadata": {
  "kernelspec": {
   "display_name": "Python 3",
   "language": "python",
   "name": "python3"
  },
  "language_info": {
   "codemirror_mode": {
    "name": "ipython",
    "version": 3
   },
   "file_extension": ".py",
   "mimetype": "text/x-python",
   "name": "python",
   "nbconvert_exporter": "python",
   "pygments_lexer": "ipython3",
   "version": "3.9.10"
  }
 },
 "nbformat": 4,
 "nbformat_minor": 4
}
