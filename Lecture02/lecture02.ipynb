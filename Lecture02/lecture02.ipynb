{
 "cells": [
  {
   "cell_type": "markdown",
   "metadata": {
    "tags": []
   },
   "source": [
    "# Лекция 2. Числа\n",
    "\n",
    "* Представление чисел"
   ]
  },
  {
   "cell_type": "markdown",
   "metadata": {
    "tags": []
   },
   "source": [
    "# Целые числа (integer)\n",
    "\n",
    "Компьютер умеет работать с числами в двоичной системе. Но что же это такое? \n",
    "\n",
    "Для выбор системы счисления, выбирается основание этой системы. В двоичной - это 2, в шестнадцатиричной - это 16. Чтобы перевести число из любой системы счисления в десятичную, нужно возвести основние системы в степень порядковый номер разряда (считая с 0, а не 1) на число, которое находится в данной позиции. Затем сложить все эти числа.\n",
    "\n",
    "\n",
    "Пример для двоичной системы\n",
    "```              \n",
    "число     |   1   1   0   1   1   0   0   1   1\n",
    "разряд    |   8   7   6   5   4   3   2   1   0\n",
    "основание | 2^8 2^7 2^6 2^5 2^4 2^3 2^2 2^1 2^0\n",
    "значение  | 256+128+  0+ 32+ 16+  0+  0+  2+  1 = 435\n",
    "```\n",
    "\n",
    "Пример для шестнадцатиричной, где после 9 идет A(10), B(11), C(12), D(13), E(14), F(15)\n",
    "```\n",
    "число     |     1    0    F    A\n",
    "в 10      |     1    0   15   10\n",
    "разряд    |     3    2    1    0\n",
    "основание |  16^3 16^2 16^1 16^0\n",
    "значение  |  4096+   0+ 240+  10 = 4346\n",
    "```\n",
    "\n",
    "* __big-endian__ - старший бит слева, младший справа. Нередко используется в сетевых устройствах. Также используется при обычной записи чисел.\n",
    "* __little-endian__ - младший бит слева, старший справа. Так храня"
   ]
  },
  {
   "cell_type": "code",
   "execution_count": 74,
   "metadata": {},
   "outputs": [],
   "source": [
    "def BytesToBin(arr):\n",
    "    r = \"\"\n",
    "    for b in arr:\n",
    "        r += f'{b:08b} '\n",
    "    return r"
   ]
  },
  {
   "cell_type": "code",
   "execution_count": 77,
   "metadata": {},
   "outputs": [
    {
     "name": "stdout",
     "output_type": "stream",
     "text": [
      "00000001 10110011 \n",
      "10110011 00000001 \n"
     ]
    }
   ],
   "source": [
    "i = 435\n",
    "\n",
    "print(BytesToBin(i.to_bytes(2, \"big\", signed=True)))\n",
    "print(BytesToBin(i.to_bytes(2, \"little\", signed=True)))"
   ]
  },
  {
   "cell_type": "code",
   "execution_count": 78,
   "metadata": {},
   "outputs": [
    {
     "name": "stdout",
     "output_type": "stream",
     "text": [
      "00000001 10110011 \n",
      "10110011 00000001 \n"
     ]
    }
   ],
   "source": [
    "import struct\n",
    "\n",
    "print(BytesToBin(struct.pack(\">h\", i)))\n",
    "print(BytesToBin(struct.pack(\"<h\", i)))"
   ]
  },
  {
   "cell_type": "code",
   "execution_count": 81,
   "metadata": {},
   "outputs": [
    {
     "data": {
      "text/plain": [
       "435"
      ]
     },
     "execution_count": 81,
     "metadata": {},
     "output_type": "execute_result"
    }
   ],
   "source": [
    "v = \"0000000110110011\"\n",
    "\n",
    "r = 0\n",
    "for p, b in enumerate(v[::-1]):\n",
    "    r += int(b) * 2**p\n",
    "r"
   ]
  },
  {
   "cell_type": "markdown",
   "metadata": {},
   "source": [
    "Порой удобно в целых числах кодировать различную информацию. Например, каждый бит может отвечать за различные настройки, а через операци ИЛИ можно объединять настройки."
   ]
  },
  {
   "cell_type": "code",
   "execution_count": 85,
   "metadata": {},
   "outputs": [
    {
     "data": {
      "text/plain": [
       "'0b111'"
      ]
     },
     "execution_count": 85,
     "metadata": {},
     "output_type": "execute_result"
    }
   ],
   "source": [
    "BOLD = 1 << 0 # 1\n",
    "RED  = 1 << 1 # 2 \n",
    "TEXT = 1 << 2 # 4\n",
    "\n",
    "bin(BOLD | TEXT | RED)"
   ]
  },
  {
   "cell_type": "code",
   "execution_count": 61,
   "metadata": {},
   "outputs": [
    {
     "name": "stdout",
     "output_type": "stream",
     "text": [
      "BOLD\n"
     ]
    }
   ],
   "source": [
    "settings = BOLD | TEXT\n",
    "\n",
    "if settings & BOLD:\n",
    "    print(\"BOLD\")"
   ]
  },
  {
   "cell_type": "markdown",
   "metadata": {
    "tags": []
   },
   "source": [
    "# Отрицательные числа\n",
    "\n",
    "Все тоже самое, но первый бит теперь обозначает знак. Если 0 - положительное число, если 1, то отрицательное. Остальные биты инвертируются и к ответу добавляется 1.\n",
    "\n",
    "```\n",
    "10001000 => 01110111 => 119 = 120\n",
    "```\n",
    "\n",
    "Это очень удобно для арифметики чисел. В этом случае (-1 + 1) и (255 + 1) дадут один и тот же результат для однобайтовой величины.\n",
    "\n",
    "\n",
    "```\n",
    "-2 + 5 = 3\n",
    "\n",
    "-2 +     11111110 +\n",
    " 5 =     00000101 =\n",
    " 3    (1)00000011\n",
    "```\n",
    "\n",
    "```\n",
    "254 + 5 = 259 % 256 = 3\n",
    "\n",
    "254 +     11111110 +\n",
    "  5 =     00000101 =\n",
    "  3    (1)00000011\n",
    "```"
   ]
  },
  {
   "cell_type": "code",
   "execution_count": 95,
   "metadata": {},
   "outputs": [
    {
     "data": {
      "text/plain": [
       "'0b10001000'"
      ]
     },
     "execution_count": 95,
     "metadata": {},
     "output_type": "execute_result"
    }
   ],
   "source": [
    "bin((-120).to_bytes(1, \"big\", signed=True)[0])"
   ]
  },
  {
   "cell_type": "code",
   "execution_count": 98,
   "metadata": {},
   "outputs": [
    {
     "data": {
      "text/plain": [
       "'0b10001000'"
      ]
     },
     "execution_count": 98,
     "metadata": {},
     "output_type": "execute_result"
    }
   ],
   "source": [
    "bin((136).to_bytes(1, \"big\", signed=False)[0])"
   ]
  },
  {
   "cell_type": "markdown",
   "metadata": {
    "tags": []
   },
   "source": [
    "# Переполнение"
   ]
  },
  {
   "cell_type": "code",
   "execution_count": 12,
   "metadata": {},
   "outputs": [
    {
     "name": "stdout",
     "output_type": "stream",
     "text": [
      "-128\n",
      "255\n",
      "0\n"
     ]
    }
   ],
   "source": [
    "from ctypes import c_byte, c_ubyte\n",
    "\n",
    "# c_byte - 1-байтовое целое со знаком\n",
    "# c_ubyte - 1-байтовое целое без знака\n",
    "\n",
    "# достигли максимума, идет переполенение\n",
    "print(c_byte(127 + 1).value)\n",
    "\n",
    "# достигли минимума\n",
    "print(c_ubyte(0 - 1).value)\n",
    "\n",
    "# достигли максимума\n",
    "print(c_ubyte(255 + 1).value)"
   ]
  },
  {
   "cell_type": "markdown",
   "metadata": {
    "tags": []
   },
   "source": [
    "# Числа с плавающей точкой\n",
    "\n",
    "Вещественные числа обычно записываются в виде\n",
    "\n",
    "```\n",
    "[-]мантиса E[+/-] порядок\n",
    "\n",
    "1.0E+100\n",
    "```\n",
    "\n",
    "А кодируются с помощью страшной формулы\n",
    "$$\n",
    "(-1)^S * 1,M * 2^{E-127}\n",
    "$$\n",
    "\n",
    "### Одинарная точность (32 бита)\n",
    "\n",
    "<img style=\"background: white\" src='https://fabiensanglard.net/floating_point_visually_explained/floating_point_layout.svg'>\n",
    "<img src='https://fabiensanglard.net/floating_point_visually_explained/floating_point_math.svg'>\n",
    "\n",
    "* 1 бит - это бит знака (1 - отрицательное число, 0 - положительное)\n",
    "* 8 бит - показатель экспоненты (E)\n",
    "* 23 бита - мантиса (M)\n",
    "\n",
    "### Двойная точность (64 бита)\n",
    "\n",
    "В Python используются вещественные числа двойной точности\n",
    "\n",
    "$$\n",
    "(-1)^S * 1,M * 2^{E-1023}\n",
    "$$\n",
    "\n",
    "* 1 бит - это бит знака (1 - отрицательное число, 0 - положительное)\n",
    "* 11 бит - показатель экспоненты (E)\n",
    "* 52 бита - мантиса (M)"
   ]
  },
  {
   "cell_type": "markdown",
   "metadata": {},
   "source": [
    "Звучит страшно, но показатель экспоненты фактически показывает в каком интервале между соседними степенями двойки находится число, а мантиса показывает в какой из 8388608 ($2^{23}$) или 4503599627370496($2^{52}$) частях этого интервала находится это число. Мантиса - это всегда число 1 и плюс некая вещественная часть. Начиная от старшего бита мы к этой 1 добавляем обратные степени двойки за каждую позицию с битом равным 1 ($b_n * 2^{-(52-n)}$ или $b_n * 2^{-(23-n)}$)"
   ]
  },
  {
   "cell_type": "code",
   "execution_count": 34,
   "metadata": {},
   "outputs": [
    {
     "name": "stdout",
     "output_type": "stream",
     "text": [
      "2.718281828459045\n",
      "01000000 00000101 10111111 00001010 10001011 00010100 01010111 01101001 \n"
     ]
    }
   ],
   "source": [
    "import math\n",
    "import struct\n",
    "\n",
    "\n",
    "i = math.e\n",
    "print(i)\n",
    "\n",
    "number = BytesToBin(struct.pack(\">d\", i))\n",
    "print(number)\n",
    "number = number.replace(\" \", \"\")"
   ]
  },
  {
   "cell_type": "code",
   "execution_count": 35,
   "metadata": {},
   "outputs": [
    {
     "name": "stdout",
     "output_type": "stream",
     "text": [
      "S = 0\n",
      "E = 10000000000\n",
      "M = 0101101111110000101010001011000101000101011101101001\n"
     ]
    }
   ],
   "source": [
    "S = number[0]\n",
    "E = number[1:1+11]\n",
    "M = number[12:]\n",
    "\n",
    "print(f'S = {S}')\n",
    "print(f'E = {E}')\n",
    "print(f'M = {M}')"
   ]
  },
  {
   "cell_type": "code",
   "execution_count": 99,
   "metadata": {},
   "outputs": [
    {
     "name": "stdout",
     "output_type": "stream",
     "text": [
      "10000000000 1024 1\n"
     ]
    }
   ],
   "source": [
    "# Вычисляем степень 2-ки\n",
    "\n",
    "print(E, int(E, base=2), int(E, base=2) - 1023)"
   ]
  },
  {
   "cell_type": "code",
   "execution_count": 100,
   "metadata": {},
   "outputs": [
    {
     "data": {
      "text/plain": [
       "1.3591409142295225"
      ]
     },
     "execution_count": 100,
     "metadata": {},
     "output_type": "execute_result"
    }
   ],
   "source": [
    "# Считаем мантису\n",
    "\n",
    "MM = 1.0\n",
    "for p, b in enumerate(M):\n",
    "    if b == \"1\":\n",
    "        MM += 2**(-p-1)\n",
    "MM"
   ]
  },
  {
   "cell_type": "code",
   "execution_count": 103,
   "metadata": {},
   "outputs": [
    {
     "data": {
      "text/plain": [
       "2.718281828459045"
      ]
     },
     "execution_count": 103,
     "metadata": {},
     "output_type": "execute_result"
    }
   ],
   "source": [
    "(-1)**(int(S)) * MM * 2**1"
   ]
  },
  {
   "cell_type": "markdown",
   "metadata": {},
   "source": [
    "# Специальные значения"
   ]
  },
  {
   "cell_type": "code",
   "execution_count": 44,
   "metadata": {},
   "outputs": [
    {
     "name": "stdout",
     "output_type": "stream",
     "text": [
      "inf\n"
     ]
    },
    {
     "data": {
      "text/plain": [
       "'01111111 11110000 00000000 00000000 00000000 00000000 00000000 00000000 '"
      ]
     },
     "execution_count": 44,
     "metadata": {},
     "output_type": "execute_result"
    }
   ],
   "source": [
    "a = 1.7976931348623157e+308\n",
    "b = 1.7976931348623157e+308\n",
    "\n",
    "print(a+b)\n",
    "\n",
    "number = BytesToBin(struct.pack(\">d\", a+b))\n",
    "number"
   ]
  },
  {
   "cell_type": "code",
   "execution_count": 49,
   "metadata": {},
   "outputs": [
    {
     "name": "stdout",
     "output_type": "stream",
     "text": [
      "-inf\n"
     ]
    },
    {
     "data": {
      "text/plain": [
       "'11111111 11110000 00000000 00000000 00000000 00000000 00000000 00000000 '"
      ]
     },
     "execution_count": 49,
     "metadata": {},
     "output_type": "execute_result"
    }
   ],
   "source": [
    "a = -1.7976931348623157e+308\n",
    "b = -1.7976931348623157e+308\n",
    "\n",
    "print(a+b)\n",
    "\n",
    "number = BytesToBin(struct.pack(\">d\", a+b))\n",
    "number"
   ]
  },
  {
   "cell_type": "code",
   "execution_count": 50,
   "metadata": {},
   "outputs": [
    {
     "data": {
      "text/plain": [
       "'01111111 11111000 00000000 00000000 00000000 00000000 00000000 00000000 '"
      ]
     },
     "execution_count": 50,
     "metadata": {},
     "output_type": "execute_result"
    }
   ],
   "source": [
    "import numpy as np\n",
    "\n",
    "number = BytesToBin(struct.pack(\">d\", np.nan))\n",
    "number"
   ]
  },
  {
   "cell_type": "markdown",
   "metadata": {
    "tags": []
   },
   "source": [
    "# Домашняя работа\n",
    "\n",
    "# Задача 2\n",
    "\n",
    "Имеется `input.txt`, например, со следуюшим содержимым\n",
    "```\n",
    "3\n",
    "AA\n",
    "FF100\n",
    "1000\n",
    "```\n",
    "\n",
    "В первой строке находится целое число $N$ (в примере - это 3). Далее идет $N$-строк, в каждой строке содержится одно целое число в 16-ричной системе. Нужно преобразовать это число в десятичное, не используя `int(s, base=16)`.\n",
    "\n",
    "Числа вывести в файл `output.txt`, каждое число в отдельной строке.\n",
    "\n",
    "Пример `output.txt` для данных выше\n",
    "```\n",
    "170\n",
    "1044736\n",
    "4096\n",
    "```"
   ]
  },
  {
   "cell_type": "code",
   "execution_count": null,
   "metadata": {},
   "outputs": [],
   "source": []
  }
 ],
 "metadata": {
  "kernelspec": {
   "display_name": "Python 3",
   "language": "python",
   "name": "python3"
  },
  "language_info": {
   "codemirror_mode": {
    "name": "ipython",
    "version": 3
   },
   "file_extension": ".py",
   "mimetype": "text/x-python",
   "name": "python",
   "nbconvert_exporter": "python",
   "pygments_lexer": "ipython3",
   "version": "3.9.10"
  }
 },
 "nbformat": 4,
 "nbformat_minor": 4
}
