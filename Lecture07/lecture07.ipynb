{
 "cells": [
  {
   "cell_type": "markdown",
   "metadata": {
    "tags": []
   },
   "source": [
    "# Лекция 7. Динамическое программирование\n",
    "\n",
    "> Динамическое программирование — это когда у нас есть задача, которую непонятно как решать, и мы разбиваем ее на меньшие задачи, которые тоже непонятно как решать.\n",
    "<br><br>(с) А. Кумок."
   ]
  },
  {
   "cell_type": "markdown",
   "metadata": {},
   "source": [
    "Более формально - это построение алгоритма решения задачи через решение мелких подзадач с последующим конструированием решения исходной задачи.\n",
    "\n",
    "Обычно вводится некое состояние системы $F(n_1, \\ldots, n_k)$, которое является решением некой подзадачи. Данное состояние зависит некоторого набора параметров $\\{n_k\\}$. Если $k=1$, то говорят об одномерной задаче, если $k=2$ - двумерное и так далее. Фактически, поиск функциональной зависимости этого состояния от этих параметров и является основной задачей.\n",
    "\n",
    "Чаще всего, оказывается, что это состояние является функцией других $M$ состояний\n",
    "\n",
    "$$\n",
    "F(n) = f(F(t_1), \\ldots, F(t_M))\n",
    "$$\n",
    "\n",
    "Это и есть подзадача нашей задачи. Эту зависимость обычно выражают рекурсией."
   ]
  },
  {
   "cell_type": "markdown",
   "metadata": {},
   "source": [
    "## Шаг 0. Озарение.\n",
    "\n",
    "Самый сложный шаг при решении задач методом динамического программирования - это понять, что задача может быть решена данным методом. На этом шаге очень помогает ознакомление с классическими задачами динамического программирования:\n",
    "* Числа Фибоначи\n",
    "* Задача о рюкзаке\n",
    "* Задача об наибольшей подпоследовательности у двух последовательностей\n",
    "* Задачи на шахматных досках\n",
    "* и многие другие\n",
    "\n",
    "\n",
    "Рассмотрим две задачи\n",
    "1. **Числа фибоначи.** Дан ряд чисел, в этом ряде следующее число является суммой двух предыдущих. Например, $1, 1, 2, 3, 5, 8, 13, \\ldots$\n",
    "2. **Задача о пути.** Дано поле размером $N \\times M$, в верхней левой части находится фигура. Она может перемещатся только направо и вниз. Нужно найти сколькими способами она может достигнуть нижней правой клетки.\n",
    "<img src=\"https://miro.medium.com/max/800/0*zvQede7--TNKtpUO.png\">"
   ]
  },
  {
   "cell_type": "markdown",
   "metadata": {
    "tags": []
   },
   "source": [
    "## Шаг 1. Рекурсия.\n",
    "\n",
    "Именно на этом шаге мы должны найти наше состояние, как функцию некой величины. "
   ]
  },
  {
   "cell_type": "markdown",
   "metadata": {},
   "source": [
    "### Числа Фибоначи\n",
    "Здесь все просто. Само число является функцией своего номера\n",
    "$$\n",
    "F(1) = 1\n",
    "\\\\\n",
    "F(2) = 1\n",
    "\\\\\n",
    "F(3) = 2\n",
    "\\\\\n",
    "F(4) = 3\n",
    "\\\\\n",
    "F(5) = 5\n",
    "$$\n",
    "\n",
    "При этом видно, что состояние с номером $n$ выражается через предыдущие два состояния\n",
    "\n",
    "$$\n",
    "F(n) = F(n-1) + F(n-2)\n",
    "$$\n",
    "\n",
    "Это выражение легко записать рекурсией. Обратите внимание, что здесь есть два первых состояния, которые не могут быть выражены через другие. Эти состояния задаются руками."
   ]
  },
  {
   "cell_type": "code",
   "execution_count": 12,
   "metadata": {},
   "outputs": [
    {
     "data": {
      "text/plain": [
       "8"
      ]
     },
     "execution_count": 12,
     "metadata": {},
     "output_type": "execute_result"
    }
   ],
   "source": [
    "def F(n):\n",
    "    if n <= 2:\n",
    "        return 1\n",
    "    return F(n-1) + F(n-2)\n",
    "\n",
    "F(6)"
   ]
  },
  {
   "cell_type": "markdown",
   "metadata": {},
   "source": [
    "### Задача о пути\n",
    "\n",
    "А вот здесь уже посложнее. Здесь мы можем ввести состояние, которое указывает сколькими способами мы можем придти в клетку с координатами $(x, y)$. Для клеток ферхнего ряда всегда $F(x, 1) = 1$, для первого столбца $F(1, y) = 1$. \n",
    "\n",
    "Теперь нужно понять, как выразить общее состояние $F(x, y)$ через другие состояния. Если встать на клетку $(x, y)$, то можно заметить, что в нее можно придти исключительно только двумя путями: сверху и слева. Если мы знаем сколькими способами мы можем достигнуть левой и верхней клетки, то для текущей клетки - это их сумма.\n",
    "\n",
    "$$\n",
    "F(x, y) = F(x-1, y) + F(x, y-1)\n",
    "$$"
   ]
  },
  {
   "cell_type": "code",
   "execution_count": 13,
   "metadata": {},
   "outputs": [
    {
     "data": {
      "text/plain": [
       "3432"
      ]
     },
     "execution_count": 13,
     "metadata": {},
     "output_type": "execute_result"
    }
   ],
   "source": [
    "def F(x, y):\n",
    "    if x == 1 or y == 1:\n",
    "        return 1\n",
    "    \n",
    "    return F(x - 1, y) + F(x, y - 1)\n",
    "\n",
    "F(8, 8)"
   ]
  },
  {
   "cell_type": "markdown",
   "metadata": {},
   "source": [
    "## Шаг 2. Запоминание.\n",
    "\n",
    "В предыдущем шаге можно заметить, что не смотря на лаконичность решения - оно будет не эффективным. Мы много раза можем вычислять одни и теже состояния. Например, для чисел Фибоначи мы будем два раза вычислять состояния $F(3)$ для $F(5)$. Для того, чтобы такое не происходило - нужно запоминать состояния и использовать их повторно."
   ]
  },
  {
   "cell_type": "markdown",
   "metadata": {},
   "source": [
    "### Числа Фибоначи"
   ]
  },
  {
   "cell_type": "markdown",
   "metadata": {},
   "source": [
    "Первый вариант самый простой, мы просто кешируем результаты вызова функции"
   ]
  },
  {
   "cell_type": "code",
   "execution_count": 15,
   "metadata": {},
   "outputs": [
    {
     "data": {
      "text/plain": [
       "8"
      ]
     },
     "execution_count": 15,
     "metadata": {},
     "output_type": "execute_result"
    }
   ],
   "source": [
    "from functools import lru_cache \n",
    "\n",
    "@lru_cache\n",
    "def F(n):\n",
    "    if n <= 2:\n",
    "        return 1\n",
    "    return F(n-1) + F(n-2)\n",
    "\n",
    "F(6)"
   ]
  },
  {
   "cell_type": "code",
   "execution_count": 16,
   "metadata": {},
   "outputs": [
    {
     "name": "stdout",
     "output_type": "stream",
     "text": [
      "1\n",
      "1\n",
      "2\n",
      "3\n",
      "5\n",
      "8\n",
      "13\n",
      "21\n",
      "34\n"
     ]
    }
   ],
   "source": [
    "def Fib(N):\n",
    "    dp = [None for _ in range(N)]\n",
    "\n",
    "    def F(n):\n",
    "        if dp[n-1] is not None: return dp[n-1]\n",
    "    \n",
    "        if n <= 2:\n",
    "            dp[n-1] = 1            \n",
    "        else:\n",
    "            dp[n-1] = F(n-1) + F(n-2)        \n",
    "            \n",
    "        return dp[n-1]\n",
    "    \n",
    "    return F(N)\n",
    "\n",
    "for n in range(1, 10):\n",
    "    print(Fib(n))"
   ]
  },
  {
   "cell_type": "markdown",
   "metadata": {},
   "source": [
    "### Задача о пути\n",
    "\n",
    "Здесь все работает абсолютно также"
   ]
  },
  {
   "cell_type": "code",
   "execution_count": 18,
   "metadata": {},
   "outputs": [
    {
     "data": {
      "text/plain": [
       "3432"
      ]
     },
     "execution_count": 18,
     "metadata": {},
     "output_type": "execute_result"
    }
   ],
   "source": [
    "from functools import lru_cache \n",
    "\n",
    "@lru_cache\n",
    "def F(x, y):\n",
    "    if x == 1 or y == 1:\n",
    "        return 1\n",
    "    \n",
    "    return F(x - 1, y) + F(x, y - 1)\n",
    "\n",
    "F(8, 8)"
   ]
  },
  {
   "cell_type": "code",
   "execution_count": 17,
   "metadata": {},
   "outputs": [
    {
     "data": {
      "text/plain": [
       "3432"
      ]
     },
     "execution_count": 17,
     "metadata": {},
     "output_type": "execute_result"
    }
   ],
   "source": [
    "def Count(X, Y):\n",
    "    dp = [\n",
    "        [None for y in range(Y)] for x in range(X)\n",
    "    ]\n",
    "    \n",
    "    def F(x, y):\n",
    "        if dp[x-1][y-1] is not None:\n",
    "            return dp[x-1][y-1]\n",
    "        \n",
    "        if x == 1 or y == 1:\n",
    "            dp[x-1][y-1] = 1\n",
    "        else:\n",
    "            dp[x-1][y-1] = F(x - 1, y) + F(x, y - 1)\n",
    "            \n",
    "        return dp[x-1][y-1]\n",
    "            \n",
    "    return F(X, Y)\n",
    "\n",
    "Count(8, 8)"
   ]
  },
  {
   "cell_type": "markdown",
   "metadata": {},
   "source": [
    "### Шаг 3. Итерации."
   ]
  },
  {
   "cell_type": "markdown",
   "metadata": {},
   "source": [
    "У рекурсий есть один существенный недостаток - существует ограничение на предельную глубину рекурсии."
   ]
  },
  {
   "cell_type": "code",
   "execution_count": 3,
   "metadata": {},
   "outputs": [
    {
     "ename": "RecursionError",
     "evalue": "maximum recursion depth exceeded",
     "output_type": "error",
     "traceback": [
      "\u001b[1;31m---------------------------------------------------------------------------\u001b[0m",
      "\u001b[1;31mRecursionError\u001b[0m                            Traceback (most recent call last)",
      "\u001b[1;32m<ipython-input-3-401b792e3715>\u001b[0m in \u001b[0;36m<module>\u001b[1;34m\u001b[0m\n\u001b[0;32m      2\u001b[0m     \u001b[1;32mreturn\u001b[0m \u001b[0mF\u001b[0m\u001b[1;33m(\u001b[0m\u001b[1;33m)\u001b[0m\u001b[1;33m\u001b[0m\u001b[1;33m\u001b[0m\u001b[0m\n\u001b[0;32m      3\u001b[0m \u001b[1;33m\u001b[0m\u001b[0m\n\u001b[1;32m----> 4\u001b[1;33m \u001b[0mF\u001b[0m\u001b[1;33m(\u001b[0m\u001b[1;33m)\u001b[0m\u001b[1;33m\u001b[0m\u001b[1;33m\u001b[0m\u001b[0m\n\u001b[0m",
      "\u001b[1;32m<ipython-input-3-401b792e3715>\u001b[0m in \u001b[0;36mF\u001b[1;34m()\u001b[0m\n\u001b[0;32m      1\u001b[0m \u001b[1;32mdef\u001b[0m \u001b[0mF\u001b[0m\u001b[1;33m(\u001b[0m\u001b[1;33m)\u001b[0m\u001b[1;33m:\u001b[0m\u001b[1;33m\u001b[0m\u001b[1;33m\u001b[0m\u001b[0m\n\u001b[1;32m----> 2\u001b[1;33m     \u001b[1;32mreturn\u001b[0m \u001b[0mF\u001b[0m\u001b[1;33m(\u001b[0m\u001b[1;33m)\u001b[0m\u001b[1;33m\u001b[0m\u001b[1;33m\u001b[0m\u001b[0m\n\u001b[0m\u001b[0;32m      3\u001b[0m \u001b[1;33m\u001b[0m\u001b[0m\n\u001b[0;32m      4\u001b[0m \u001b[0mF\u001b[0m\u001b[1;33m(\u001b[0m\u001b[1;33m)\u001b[0m\u001b[1;33m\u001b[0m\u001b[1;33m\u001b[0m\u001b[0m\n",
      "... last 1 frames repeated, from the frame below ...\n",
      "\u001b[1;32m<ipython-input-3-401b792e3715>\u001b[0m in \u001b[0;36mF\u001b[1;34m()\u001b[0m\n\u001b[0;32m      1\u001b[0m \u001b[1;32mdef\u001b[0m \u001b[0mF\u001b[0m\u001b[1;33m(\u001b[0m\u001b[1;33m)\u001b[0m\u001b[1;33m:\u001b[0m\u001b[1;33m\u001b[0m\u001b[1;33m\u001b[0m\u001b[0m\n\u001b[1;32m----> 2\u001b[1;33m     \u001b[1;32mreturn\u001b[0m \u001b[0mF\u001b[0m\u001b[1;33m(\u001b[0m\u001b[1;33m)\u001b[0m\u001b[1;33m\u001b[0m\u001b[1;33m\u001b[0m\u001b[0m\n\u001b[0m\u001b[0;32m      3\u001b[0m \u001b[1;33m\u001b[0m\u001b[0m\n\u001b[0;32m      4\u001b[0m \u001b[0mF\u001b[0m\u001b[1;33m(\u001b[0m\u001b[1;33m)\u001b[0m\u001b[1;33m\u001b[0m\u001b[1;33m\u001b[0m\u001b[0m\n",
      "\u001b[1;31mRecursionError\u001b[0m: maximum recursion depth exceeded"
     ]
    }
   ],
   "source": [
    "def F():\n",
    "    return F()\n",
    "\n",
    "F()"
   ]
  },
  {
   "cell_type": "code",
   "execution_count": 2,
   "metadata": {},
   "outputs": [
    {
     "name": "stdout",
     "output_type": "stream",
     "text": [
      "1000\n"
     ]
    }
   ],
   "source": [
    "import sys\n",
    "print(sys.getrecursionlimit())\n",
    "\n",
    "# Если очень хочется\n",
    "sys.setrecursionlimit(1000)"
   ]
  },
  {
   "cell_type": "markdown",
   "metadata": {},
   "source": [
    "В этом случае приходится переходить к итерациям"
   ]
  },
  {
   "cell_type": "markdown",
   "metadata": {},
   "source": [
    "### Числа Фибоначи"
   ]
  },
  {
   "cell_type": "code",
   "execution_count": 6,
   "metadata": {},
   "outputs": [
    {
     "data": {
      "text/plain": [
       "8"
      ]
     },
     "execution_count": 6,
     "metadata": {},
     "output_type": "execute_result"
    }
   ],
   "source": [
    "def Fib(N):\n",
    "    if N <= 2: return 1\n",
    "    dp = [None for n in range(N)]\n",
    "    dp[0] = 1\n",
    "    dp[1] = 1\n",
    "    \n",
    "    for n in range(2, N):\n",
    "        dp[n] = dp[n-1] + dp[n-2]\n",
    "        \n",
    "    return dp[N-1]\n",
    "    \n",
    "    \n",
    "Fib(6)"
   ]
  },
  {
   "cell_type": "markdown",
   "metadata": {},
   "source": [
    "Можно обратить внимание, что нам не требуется хранить все возможные предыдущие состаяния, достаточно только последних двух"
   ]
  },
  {
   "cell_type": "code",
   "execution_count": 7,
   "metadata": {},
   "outputs": [
    {
     "data": {
      "text/plain": [
       "8"
      ]
     },
     "execution_count": 7,
     "metadata": {},
     "output_type": "execute_result"
    }
   ],
   "source": [
    "def Fib(N):\n",
    "    if N <= 2: return 1\n",
    "\n",
    "    dp = [1, 1]\n",
    "        \n",
    "    for n in range(2, N):\n",
    "        dp[0], dp[1] = dp[1], dp[0] + dp[1]\n",
    "        \n",
    "    return dp[1]\n",
    "    \n",
    "    \n",
    "Fib(6)"
   ]
  },
  {
   "cell_type": "markdown",
   "metadata": {},
   "source": [
    "### Задача о пути"
   ]
  },
  {
   "cell_type": "code",
   "execution_count": 10,
   "metadata": {},
   "outputs": [
    {
     "data": {
      "text/plain": [
       "3432"
      ]
     },
     "execution_count": 10,
     "metadata": {},
     "output_type": "execute_result"
    }
   ],
   "source": [
    "def Count(N, M):\n",
    "    dp = [\n",
    "        [None for y in range(M)]\n",
    "        for x in range(N)\n",
    "    ]\n",
    "    \n",
    "    for x in range(N):\n",
    "        for y in range(M):\n",
    "            if x == 0 or y == 0:\n",
    "                dp[x][y] = 1\n",
    "            else:\n",
    "                dp[x][y] = dp[x-1][y] + dp[x][y-1]\n",
    "            \n",
    "    return dp[N-1][M-1]\n",
    "\n",
    "Count(8, 8)"
   ]
  },
  {
   "cell_type": "markdown",
   "metadata": {},
   "source": [
    "Здесь также можно заметить, что нам по сути не нужно хранить все состояния, нам хватит одного списка (по сути изломанный вертикальный столбец)"
   ]
  },
  {
   "cell_type": "code",
   "execution_count": 4,
   "metadata": {},
   "outputs": [
    {
     "data": {
      "text/plain": [
       "3432"
      ]
     },
     "execution_count": 4,
     "metadata": {},
     "output_type": "execute_result"
    }
   ],
   "source": [
    "def Count(N, M):\n",
    "    dp = [1 for y in range(M)]\n",
    "    \n",
    "    for x in range(1, N):\n",
    "        for y in range(1, M):\n",
    "            dp[y] = dp[y] + dp[y-1]  \n",
    "            \n",
    "    return dp[-1]\n",
    "\n",
    "Count(8, 8)"
   ]
  }
 ],
 "metadata": {
  "kernelspec": {
   "display_name": "Python 3",
   "language": "python",
   "name": "python3"
  },
  "language_info": {
   "codemirror_mode": {
    "name": "ipython",
    "version": 3
   },
   "file_extension": ".py",
   "mimetype": "text/x-python",
   "name": "python",
   "nbconvert_exporter": "python",
   "pygments_lexer": "ipython3",
   "version": "3.8.6"
  }
 },
 "nbformat": 4,
 "nbformat_minor": 4
}
