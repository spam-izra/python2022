{
 "cells": [
  {
   "cell_type": "markdown",
   "metadata": {
    "tags": []
   },
   "source": [
    "# Лекция 6. Алгоритмы на графах\n",
    "\n",
    "- Алгоритм Дейкстры\n",
    "- A* (A-star)"
   ]
  },
  {
   "cell_type": "markdown",
   "metadata": {
    "jp-MarkdownHeadingCollapsed": true,
    "tags": []
   },
   "source": [
    "# Алгоритм Дейкстры\n",
    "\n",
    "Данный алгоритм позволяет найти кратчайший путь от одной вершины \"A\" до всех остальных. У него есть одно существенное ограничение - **длина ребер должна быть неотрицательная**."
   ]
  },
  {
   "cell_type": "markdown",
   "metadata": {},
   "source": [
    "Алгоритм состоит из следующих шагов:\n",
    "\n",
    "- **Инициализация:** каждой вершине ставится метка расстояния от вершины \"A\", равная бесконечности (это эквивалентно отсутствию информации о пути). Метка для вершины \"А\", естественно, равна нулю. Все вершины графа отмечаются, как непосещенные. Формируем пул (открытых) вершин, вершин которые нужно проверить. Помещаем в этот пул вершину \"А\".\n",
    "\n",
    "- **Ход работы**\n",
    "  1. Если пул пуст. Заканчиваем работу.\n",
    "  2. Забираем вершину с наименьшей меткой расстояния из пула вершин.\n",
    "  3. Добавляются в пул все непосещенные вершины, соединенные с выбранной вершинной. Если сумма метки расстояния текущей вершины и длины ребра к соседней вершине меньше метки этой соседней вершины, то устанавливаем метку соседней вершины равную этой сумме. \n",
    "  4. Помечаем выбранную вершину посещенной.\n",
    "  5. Повторить с пункта 1."
   ]
  },
  {
   "cell_type": "markdown",
   "metadata": {},
   "source": [
    "<img src=\"https://cdn.programiz.com/sites/tutorial2program/files/dj-1.png\">"
   ]
  },
  {
   "cell_type": "markdown",
   "metadata": {},
   "source": [
    "<img src=\"https://cdn.programiz.com/sites/tutorial2program/files/dj-2.png\">"
   ]
  },
  {
   "cell_type": "markdown",
   "metadata": {},
   "source": [
    "<img src=\"https://cdn.programiz.com/sites/tutorial2program/files/dj-3.png\">"
   ]
  },
  {
   "cell_type": "markdown",
   "metadata": {},
   "source": [
    "<img src=\"https://cdn.programiz.com/sites/tutorial2program/files/dj-4.png\">"
   ]
  },
  {
   "cell_type": "markdown",
   "metadata": {},
   "source": [
    "<img src=\"https://cdn.programiz.com/sites/tutorial2program/files/dj-5.png\">"
   ]
  },
  {
   "cell_type": "markdown",
   "metadata": {},
   "source": [
    "<img src=\"https://cdn.programiz.com/sites/tutorial2program/files/dj-6.png\">"
   ]
  },
  {
   "cell_type": "markdown",
   "metadata": {},
   "source": [
    "<img src=\"https://cdn.programiz.com/sites/tutorial2program/files/dj-7.png\">"
   ]
  },
  {
   "cell_type": "markdown",
   "metadata": {},
   "source": [
    "<img src=\"https://cdn.programiz.com/sites/tutorial2program/files/dj-8.png\">"
   ]
  },
  {
   "cell_type": "markdown",
   "metadata": {
    "jp-MarkdownHeadingCollapsed": true,
    "tags": []
   },
   "source": [
    "# Метро\n",
    "\n",
    "Воспользуемся картой метро: https://mskof.ru/"
   ]
  },
  {
   "cell_type": "code",
   "execution_count": 124,
   "metadata": {},
   "outputs": [],
   "source": [
    "import requests\n",
    "import json\n",
    "\n",
    "resp = requests.get(\"https://mskof.ru/json.json\")\n",
    "\n",
    "data = json.loads(resp.text)"
   ]
  },
  {
   "cell_type": "code",
   "execution_count": 128,
   "metadata": {},
   "outputs": [
    {
     "data": {
      "text/plain": [
       "dict_keys(['stations', 'lines', 'vertices'])"
      ]
     },
     "execution_count": 128,
     "metadata": {},
     "output_type": "execute_result"
    }
   ],
   "source": [
    "data.keys()"
   ]
  },
  {
   "cell_type": "code",
   "execution_count": 129,
   "metadata": {},
   "outputs": [],
   "source": [
    "stations = data['stations']\n",
    "stations = {\n",
    "    k: v['n'] for k, v in stations.items()\n",
    "}"
   ]
  },
  {
   "cell_type": "code",
   "execution_count": 156,
   "metadata": {},
   "outputs": [
    {
     "name": "stdout",
     "output_type": "stream",
     "text": [
      "220 Войковская\n",
      "223 Беломорская\n"
     ]
    }
   ],
   "source": [
    "for k, v in stations.items():\n",
    "    if v in ['Беломорская', 'Войковская']:\n",
    "        print(k, v)"
   ]
  },
  {
   "cell_type": "code",
   "execution_count": 135,
   "metadata": {},
   "outputs": [],
   "source": [
    "lines = data['lines']\n",
    "lines = {\n",
    "    k: v['n'] for k, v in lines.items()\n",
    "}"
   ]
  },
  {
   "cell_type": "code",
   "execution_count": 184,
   "metadata": {},
   "outputs": [
    {
     "data": {
      "text/plain": [
       "< [  150]( -1) Станция - 151a: 2, >"
      ]
     },
     "execution_count": 184,
     "metadata": {},
     "output_type": "execute_result"
    }
   ],
   "source": [
    "class Node:\n",
    "    def __init__(self, id, *, name):\n",
    "        self.id = id\n",
    "        self.name = name\n",
    "        \n",
    "        self.to_nodes = {}\n",
    "        \n",
    "        self.distance = None\n",
    "        self.from_node = None\n",
    "        \n",
    "    def path(self, nodes):\n",
    "        result = [(self.id, self.name)]\n",
    "        current = self\n",
    "        while current := nodes.get(current.from_node, None):\n",
    "            result.append((current.id, current.name))\n",
    "        return result\n",
    "        \n",
    "    def __repr__(self):\n",
    "        r = f'< [{self.id:>5}]({self.distance if self.distance is not None else -1:3}) {self.name} - '\n",
    "        for n in sorted(self.to_nodes):\n",
    "            w = self.to_nodes[n]\n",
    "            r += f'{n}: {w}, '\n",
    "        r += '>'\n",
    "        return r\n",
    "    \n",
    "n = Node('150', name=\"Станция\")\n",
    "n.to_nodes['151a'] = 2\n",
    "n"
   ]
  },
  {
   "cell_type": "code",
   "execution_count": 185,
   "metadata": {},
   "outputs": [],
   "source": [
    "vertices = data['vertices']\n",
    "\n",
    "nodes = {}\n",
    "for k, v in vertices.items():\n",
    "    node = Node(k, name=stations.get(v['sid'], 'UNKNOWN'))\n",
    "    nodes[k] = node\n",
    "    for obj in v['e']:\n",
    "        node.to_nodes[obj['to']] = obj['w']\n",
    "    #print(node)"
   ]
  },
  {
   "cell_type": "code",
   "execution_count": 186,
   "metadata": {},
   "outputs": [],
   "source": [
    "for node in nodes.values():\n",
    "    node.distance = None\n",
    "    node.from_node = None\n",
    "\n",
    "pool = {'223b'}\n",
    "nodes['223b'].distance = 0\n",
    "visited = set()\n",
    "\n",
    "while pool:\n",
    "    tmp = sorted(pool, key=lambda x: nodes[x].distance if nodes[x].distance is not None else 9999999999)\n",
    "    id_node = tmp[0]\n",
    "    pool.remove(id_node)\n",
    "    \n",
    "    node = nodes[id_node]\n",
    "    \n",
    "    for n, w in node.to_nodes.items():\n",
    "        if n in visited:\n",
    "            continue\n",
    "            \n",
    "        path = node.distance + w\n",
    "        neighbour = nodes[n]\n",
    "        if neighbour.distance is None or neighbour.distance > path:\n",
    "            neighbour.distance = path\n",
    "            neighbour.from_node = node.id\n",
    "        pool.add(neighbour.id)\n",
    "    \n",
    "    visited.add(id_node)        "
   ]
  },
  {
   "cell_type": "code",
   "execution_count": 191,
   "metadata": {},
   "outputs": [
    {
     "data": {
      "text/plain": [
       "(< [ 150b]( 74) Коммунарка - >,\n",
       " [('150b', 'Коммунарка'),\n",
       "  ('151b', 'Ольховая'),\n",
       "  ('152b', 'Прошкино'),\n",
       "  ('153b', 'Филатов Луг'),\n",
       "  ('101b', 'Саларьево'),\n",
       "  ('102b', 'Румянцево'),\n",
       "  ('103b', 'Тропарёво'),\n",
       "  ('104b', 'Юго-Западная'),\n",
       "  ('105b', 'Проспект Вернадского'),\n",
       "  ('106b', 'Университет'),\n",
       "  ('107b', 'Воробьёвы горы'),\n",
       "  ('108b', 'Спортивная'),\n",
       "  ('109b', 'Фрунзенская'),\n",
       "  ('110b', 'Парк культуры'),\n",
       "  ('111b', 'Кропотнинская'),\n",
       "  ('112b', 'Библиотека имени Ленина'),\n",
       "  ('113b', 'Охотный Ряд'),\n",
       "  ('213b', 'Театральная'),\n",
       "  ('214b', 'Тверская'),\n",
       "  ('215b', 'Маяковская'),\n",
       "  ('216b', 'Белорусская'),\n",
       "  ('217b', 'Динамо'),\n",
       "  ('218b', 'Аэропорт'),\n",
       "  ('219b', 'Сокол'),\n",
       "  ('220b', 'Войковская'),\n",
       "  ('221b', 'Водный стадион'),\n",
       "  ('222b', 'Речной вокзал'),\n",
       "  ('223b', 'Беломорская')])"
      ]
     },
     "execution_count": 191,
     "metadata": {},
     "output_type": "execute_result"
    }
   ],
   "source": [
    "nodes['150b'], nodes['150b'].path(nodes)"
   ]
  },
  {
   "cell_type": "markdown",
   "metadata": {
    "jp-MarkdownHeadingCollapsed": true,
    "tags": []
   },
   "source": [
    "# A*\n",
    "\n",
    "Данный подход можно рассматривать, как оптимизацию алгоритма Дейкстры. Данный алгоритм позволяет найти оптимальный путь до указанной точки, использую оценочную эвристику.\n",
    "\n",
    "- **Инициализация:** Формируем пул вершин (набор вершин, которые нужно просматривать). Помещаем в этот пул стартовую вершину.\n",
    "- **Ход работы:**\n",
    "   1. Если значение целевой вершины $f(x)$ меньше значения этой функции для любой вершины в пуле, то останавливаемся. Либо же, если пул пустой - тоже.\n",
    "   2. Для каждой вершины в пуле вычисляем функцию $f(x) = g(x) + h(x)$. $g(x)$ - стоимость пути из стартовой вершины до текуущей. $h(x)$ - эвристика, оценивает на глаз стоимость о текущей вершины до целевой (фактически задает приоритет выбора вершин). Из пула забирается вершина с наименьшим значением.\n",
    "   3. Выбранная вершина \"раскрывается\", то есть все непосещенные вершины добавляются в пул вершин.\n",
    "   4. Вершина помечается посещенной."
   ]
  },
  {
   "cell_type": "markdown",
   "metadata": {},
   "source": [
    "<img src=\"https://www.101computing.net/wp/wp-content/uploads/A-Star-Search-Algorithm-Step-1.png\">"
   ]
  },
  {
   "cell_type": "markdown",
   "metadata": {},
   "source": [
    "<img src=\"https://www.101computing.net/wp/wp-content/uploads/A-Star-Search-Algorithm-Step-2.png\">"
   ]
  },
  {
   "cell_type": "markdown",
   "metadata": {},
   "source": [
    "<img src=\"https://www.101computing.net/wp/wp-content/uploads/A-Star-Search-Algorithm-Step-3.png\">"
   ]
  },
  {
   "cell_type": "markdown",
   "metadata": {},
   "source": [
    "<img src=\"https://www.101computing.net/wp/wp-content/uploads/A-Star-Search-Algorithm-Step-4.png\">"
   ]
  },
  {
   "cell_type": "markdown",
   "metadata": {},
   "source": [
    "<img src=\"https://www.101computing.net/wp/wp-content/uploads/A-Star-Search-Algorithm-Step-5.png\">"
   ]
  },
  {
   "cell_type": "markdown",
   "metadata": {},
   "source": [
    "<img src=\"https://www.101computing.net/wp/wp-content/uploads/A-Star-Search-Algorithm-Step-6.png\">"
   ]
  },
  {
   "cell_type": "markdown",
   "metadata": {},
   "source": [
    "<img src=\"https://www.101computing.net/wp/wp-content/uploads/A-Star-Search-Algorithm-Step-7.png\">"
   ]
  },
  {
   "cell_type": "markdown",
   "metadata": {},
   "source": [
    "В живую это выглядит так\n",
    "\n",
    "<img src=\"https://upload.wikimedia.org/wikipedia/commons/5/5d/Astar_progress_animation.gif\">"
   ]
  },
  {
   "cell_type": "markdown",
   "metadata": {
    "jp-MarkdownHeadingCollapsed": true,
    "tags": []
   },
   "source": [
    "# Пример"
   ]
  },
  {
   "cell_type": "code",
   "execution_count": 8,
   "metadata": {},
   "outputs": [],
   "source": [
    "import requests\n",
    "import json\n",
    "\n",
    "resp = requests.get(\"https://mskof.ru/json.json\")\n",
    "\n",
    "data = json.loads(resp.text)"
   ]
  },
  {
   "cell_type": "code",
   "execution_count": 9,
   "metadata": {},
   "outputs": [
    {
     "data": {
      "text/plain": [
       "dict_keys(['stations', 'lines', 'vertices'])"
      ]
     },
     "execution_count": 9,
     "metadata": {},
     "output_type": "execute_result"
    }
   ],
   "source": [
    "data.keys()"
   ]
  },
  {
   "cell_type": "code",
   "execution_count": 10,
   "metadata": {},
   "outputs": [],
   "source": [
    "stations = data['stations']\n",
    "stations = {\n",
    "    k: v['n'] for k, v in stations.items()\n",
    "}"
   ]
  },
  {
   "cell_type": "code",
   "execution_count": 11,
   "metadata": {},
   "outputs": [],
   "source": [
    "lines = data['lines']\n",
    "lines = {\n",
    "    k: v['n'] for k, v in lines.items()\n",
    "}"
   ]
  },
  {
   "cell_type": "code",
   "execution_count": 12,
   "metadata": {},
   "outputs": [],
   "source": [
    "coords = {}\n",
    "with open(\"coord.txt\") as f:\n",
    "    for line in f:\n",
    "        line = line.strip()\n",
    "        if line == \"\": continue\n",
    "        k, x, y = line.split()\n",
    "        coords[k] = (float(x), float(y))"
   ]
  },
  {
   "cell_type": "code",
   "execution_count": 20,
   "metadata": {},
   "outputs": [
    {
     "data": {
      "text/plain": [
       "< [  150]( -1 /  -1 =  -1) Станция - 151a: 2, >"
      ]
     },
     "execution_count": 20,
     "metadata": {},
     "output_type": "execute_result"
    }
   ],
   "source": [
    "class Node:\n",
    "    def __init__(self, id, *, name):\n",
    "        self.id = id\n",
    "        self.name = name\n",
    "        self.to_nodes = {}\n",
    "        \n",
    "        self.g = None # расстояние от начального до этого узла\n",
    "        self.h = None # значение эвристики    \n",
    "        self.from_node = None\n",
    "        \n",
    "    @property\n",
    "    def f(self):\n",
    "        return self.g + self.h\n",
    "        \n",
    "    def path(self, nodes):\n",
    "        result = [(self.id, self.name)]\n",
    "        current = self\n",
    "        while current := nodes.get(current.from_node, None):\n",
    "            result.append((current.id, current.name))\n",
    "        return result\n",
    "        \n",
    "    def __repr__(self):\n",
    "        tmp = f'{self.f if self.g is not None and self.h is not None else -1:3}'\n",
    "        r = f'< [{self.id:>5}]({self.g if self.g is not None else -1:3} ' +\\\n",
    "            f'/ {self.h if self.h is not None else -1:3} = {tmp}) {self.name} - '\n",
    "        for n in sorted(self.to_nodes):\n",
    "            w = self.to_nodes[n]\n",
    "            r += f'{n}: {w}, '\n",
    "        r += '>'\n",
    "        return r\n",
    "    \n",
    "n = Node('150', name=\"Станция\")\n",
    "n.to_nodes['151a'] = 2\n",
    "n"
   ]
  },
  {
   "cell_type": "code",
   "execution_count": 26,
   "metadata": {},
   "outputs": [],
   "source": [
    "import math\n",
    "\n",
    "def makeH(target: tuple):\n",
    "    def tmp(pos: tuple):\n",
    "        return math.sqrt(\n",
    "            (target[0] - pos[0])**2\n",
    "            +\n",
    "            (target[1] - pos[1])**2\n",
    "        )\n",
    "    return tmp"
   ]
  },
  {
   "cell_type": "code",
   "execution_count": 29,
   "metadata": {},
   "outputs": [],
   "source": []
  },
  {
   "cell_type": "code",
   "execution_count": 47,
   "metadata": {},
   "outputs": [],
   "source": [
    "vertices = data['vertices']\n",
    "\n",
    "nodes = {}\n",
    "for k, v in vertices.items():\n",
    "    node = Node(k, name=stations.get(v['sid'], 'UNKNOWN'))\n",
    "    nodes[k] = node\n",
    "    for obj in v['e']:\n",
    "        node.to_nodes[obj['to']] = obj['w']\n",
    "    #print(node)"
   ]
  },
  {
   "cell_type": "code",
   "execution_count": 48,
   "metadata": {},
   "outputs": [
    {
     "name": "stdout",
     "output_type": "stream",
     "text": [
      "WARNING: coords 824a\n",
      "WARNING: coords 824b\n"
     ]
    }
   ],
   "source": [
    "h = makeH(coords['150'])\n",
    "\n",
    "for node in nodes.values():\n",
    "    node.g = None\n",
    "    node.from_node = None\n",
    "    node.h = h(coords.get(node.id[:-1], (0, 0)))\n",
    "    # убираем направление пути\n",
    "    if node.id[:-1] not in coords:\n",
    "        print(\"WARNING: coords \" + node.id)\n",
    "\n",
    "pool = {'223b'}\n",
    "nodes['223b'].g = 0\n",
    "target = {'150a', '150b'}\n",
    "visited = set()\n",
    "\n",
    "while pool:\n",
    "    node = None\n",
    "    best = None\n",
    "    for id in pool:\n",
    "        f = nodes[id].f\n",
    "        if best is None or best > f:\n",
    "            best = f\n",
    "            node = nodes[id]\n",
    "\n",
    "    found = False\n",
    "    for tid in target:\n",
    "        tnode = nodes[tid]\n",
    "        if tnode.g is None:\n",
    "            continue\n",
    "        if best > tnode.f:\n",
    "            found = True\n",
    "    if found:\n",
    "        break\n",
    "            \n",
    "    for n, w in node.to_nodes.items():\n",
    "        if n in visited:\n",
    "            continue\n",
    "            \n",
    "        path = node.g + w\n",
    "        neighbour = nodes[n]\n",
    "        if neighbour.g is None or neighbour.g > path:\n",
    "            neighbour.g = path\n",
    "            neighbour.from_node = node.id\n",
    "        pool.add(neighbour.id)\n",
    "    \n",
    "    pool.remove(node.id)\n",
    "    visited.add(node.id)"
   ]
  },
  {
   "cell_type": "code",
   "execution_count": 39,
   "metadata": {},
   "outputs": [
    {
     "data": {
      "text/plain": [
       "< [ 150a]( -1 / 0.0 =  -1) Коммунарка - 151a: 2, >"
      ]
     },
     "execution_count": 39,
     "metadata": {},
     "output_type": "execute_result"
    }
   ],
   "source": [
    "nodes['150a']"
   ]
  },
  {
   "cell_type": "code",
   "execution_count": 46,
   "metadata": {},
   "outputs": [
    {
     "data": {
      "text/plain": [
       "< [ 150b]( 78 / 0.0 = 78.0) Коммунарка - >"
      ]
     },
     "execution_count": 46,
     "metadata": {},
     "output_type": "execute_result"
    }
   ],
   "source": [
    "nodes['150b']"
   ]
  },
  {
   "cell_type": "code",
   "execution_count": 45,
   "metadata": {},
   "outputs": [
    {
     "data": {
      "text/plain": [
       "[('150b', 'Коммунарка'),\n",
       " ('151b', 'Ольховая'),\n",
       " ('152b', 'Прошкино'),\n",
       " ('153b', 'Филатов Луг'),\n",
       " ('101b', 'Саларьево'),\n",
       " ('102b', 'Румянцево'),\n",
       " ('103b', 'Тропарёво'),\n",
       " ('104b', 'Юго-Западная'),\n",
       " ('105b', 'Проспект Вернадского'),\n",
       " ('106b', 'Университет'),\n",
       " ('107b', 'Воробьёвы горы'),\n",
       " ('108b', 'Спортивная'),\n",
       " ('109b', 'Фрунзенская'),\n",
       " ('110b', 'Парк культуры'),\n",
       " ('111b', 'Кропотнинская'),\n",
       " ('112b', 'Библиотека имени Ленина'),\n",
       " ('914b', 'Боровицкая'),\n",
       " ('915b', 'Чеховская'),\n",
       " ('214b', 'Тверская'),\n",
       " ('215b', 'Маяковская'),\n",
       " ('216b', 'Белорусская'),\n",
       " ('217b', 'Динамо'),\n",
       " ('218b', 'Аэропорт'),\n",
       " ('219b', 'Сокол'),\n",
       " ('220b', 'Войковская'),\n",
       " ('221b', 'Водный стадион'),\n",
       " ('222b', 'Речной вокзал'),\n",
       " ('223b', 'Беломорская')]"
      ]
     },
     "execution_count": 45,
     "metadata": {},
     "output_type": "execute_result"
    }
   ],
   "source": [
    "nodes['150b'].path(nodes)"
   ]
  },
  {
   "cell_type": "code",
   "execution_count": null,
   "metadata": {},
   "outputs": [],
   "source": []
  }
 ],
 "metadata": {
  "kernelspec": {
   "display_name": "Python 3",
   "language": "python",
   "name": "python3"
  },
  "language_info": {
   "codemirror_mode": {
    "name": "ipython",
    "version": 3
   },
   "file_extension": ".py",
   "mimetype": "text/x-python",
   "name": "python",
   "nbconvert_exporter": "python",
   "pygments_lexer": "ipython3",
   "version": "3.8.6"
  }
 },
 "nbformat": 4,
 "nbformat_minor": 4
}
